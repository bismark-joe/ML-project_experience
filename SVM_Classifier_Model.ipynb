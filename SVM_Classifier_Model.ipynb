{
  "cells": [
    {
      "cell_type": "markdown",
      "metadata": {
        "id": "view-in-github",
        "colab_type": "text"
      },
      "source": [
        "<a href=\"https://colab.research.google.com/github/bismark-joe/ML-project_experience/blob/master/SVM_Classifier_Model.ipynb\" target=\"_parent\"><img src=\"https://colab.research.google.com/assets/colab-badge.svg\" alt=\"Open In Colab\"/></a>"
      ]
    },
    {
      "cell_type": "code",
      "execution_count": null,
      "metadata": {
        "colab": {
          "base_uri": "https://localhost:8080/"
        },
        "id": "Poo-cAMtJUmm",
        "outputId": "a5be2f25-bfe5-4278-a4d1-e88ea1364f2e"
      },
      "outputs": [
        {
          "output_type": "stream",
          "name": "stdout",
          "text": [
            "Drive already mounted at /content/drive; to attempt to forcibly remount, call drive.mount(\"/content/drive\", force_remount=True).\n"
          ]
        }
      ],
      "source": [
        "from google.colab import drive\n",
        "drive.mount('/content/drive')\n",
        "import os\n",
        "BASE_DIR = \"/content/drive/MyDrive/***\"\n",
        "os.chdir(BASE_DIR)"
      ]
    },
    {
      "cell_type": "code",
      "execution_count": null,
      "metadata": {
        "id": "fjTCmkA7s4zJ"
      },
      "outputs": [],
      "source": [
        "# import tensorflow as tf\n",
        "\n",
        "# # Check if a GPU is available\n",
        "# if tf.config.list_physical_devices('GPU'):\n",
        "#     print(\"GPU is available\")\n",
        "# else:\n",
        "#     print(\"GPU is not available\")\n"
      ]
    },
    {
      "cell_type": "code",
      "execution_count": null,
      "metadata": {
        "colab": {
          "base_uri": "https://localhost:8080/"
        },
        "id": "sVSOFpv_dcC4",
        "outputId": "e30a2aa5-8b73-4d16-ebbc-81c447bd560b"
      },
      "outputs": [
        {
          "output_type": "stream",
          "name": "stdout",
          "text": [
            "Requirement already satisfied: scikit-learn in /usr/local/lib/python3.10/dist-packages (1.2.2)\n",
            "Requirement already satisfied: joblib in /usr/local/lib/python3.10/dist-packages (1.3.2)\n",
            "Requirement already satisfied: numpy>=1.17.3 in /usr/local/lib/python3.10/dist-packages (from scikit-learn) (1.23.5)\n",
            "Requirement already satisfied: scipy>=1.3.2 in /usr/local/lib/python3.10/dist-packages (from scikit-learn) (1.11.4)\n",
            "Requirement already satisfied: threadpoolctl>=2.0.0 in /usr/local/lib/python3.10/dist-packages (from scikit-learn) (3.2.0)\n"
          ]
        }
      ],
      "source": [
        "pip install scikit-learn joblib\n"
      ]
    },
    {
      "cell_type": "code",
      "execution_count": null,
      "metadata": {
        "id": "XC6VbHE_z76E"
      },
      "outputs": [],
      "source": [
        "import pandas as pd\n",
        "\n",
        "# Load the original CSV file into a DataFrame\n",
        "df = pd.read_csv('cleaned_dataset_without_missing_text.csv')\n",
        "\n",
        "# Drop columns you don't need\n",
        "columns_to_keep = ['Content', 'Hate', 'Non-Hate']\n",
        "df = df[columns_to_keep]\n",
        "\n",
        "# Save the modified DataFrame as a new CSV file\n",
        "df.to_csv('svm_stage1_dataset.csv', index=False)\n"
      ]
    },
    {
      "cell_type": "code",
      "execution_count": null,
      "metadata": {
        "colab": {
          "base_uri": "https://localhost:8080/"
        },
        "id": "A8QYQr1c0pi9",
        "outputId": "03817d30-65bb-4297-fc35-640aa2806e45"
      },
      "outputs": [
        {
          "output_type": "stream",
          "name": "stdout",
          "text": [
            "Maximum number of features in the TF-IDF matrix: (22429, 25718)\n"
          ]
        }
      ],
      "source": [
        "import pandas as pd\n",
        "from sklearn.feature_extraction.text import TfidfVectorizer\n",
        "\n",
        "# Load your dataset\n",
        "data = pd.read_csv('svm_stage1_dataset.csv')\n",
        "\n",
        "# Extract the text data\n",
        "X = data['Content']\n",
        "\n",
        "# Create TF-IDF vectorizer without limiting features initially\n",
        "tfidf_vectorizer = TfidfVectorizer()\n",
        "\n",
        "# Fit and transform the text data to get the TF-IDF matrix\n",
        "X_tfidf = tfidf_vectorizer.fit_transform(X)\n",
        "\n",
        "# Get the maximum number of features\n",
        "max_features = X_tfidf.shape\n",
        "\n",
        "print(f\"Maximum number of features in the TF-IDF matrix: {max_features}\")\n"
      ]
    },
    {
      "cell_type": "code",
      "execution_count": null,
      "metadata": {
        "colab": {
          "base_uri": "https://localhost:8080/"
        },
        "id": "IWnzSuPmsfTD",
        "outputId": "34ef03dc-164b-4955-de44-573f1c1067d2"
      },
      "outputs": [
        {
          "output_type": "execute_result",
          "data": {
            "text/plain": [
              "['tfidf_vectors.joblib']"
            ]
          },
          "metadata": {},
          "execution_count": 44
        }
      ],
      "source": [
        "import pandas as pd\n",
        "from sklearn.feature_extraction.text import TfidfVectorizer\n",
        "from joblib import dump\n",
        "\n",
        "# Load your dataset\n",
        "data = pd.read_csv('svm_stage1_dataset.csv')\n",
        "\n",
        "# Extract the text data\n",
        "X = data['Content']\n",
        "\n",
        "# Create TF-IDF vectorizer with the maximum number of features\n",
        "max_features = 25718  # Use the correct maximum number of features\n",
        "tfidf_vectorizer = TfidfVectorizer(max_features=max_features)\n",
        "\n",
        "# Vectorize the text data\n",
        "X_tfidf = tfidf_vectorizer.fit_transform(X)\n",
        "\n",
        "# Save the TF-IDF vectorizer to a file\n",
        "dump(tfidf_vectorizer, 'tfidf_vectorizer.joblib')\n",
        "\n",
        "# Save the TF-IDF vectors to a file\n",
        "dump(X_tfidf, 'tfidf_vectors.joblib')"
      ]
    },
    {
      "cell_type": "code",
      "execution_count": null,
      "metadata": {
        "colab": {
          "base_uri": "https://localhost:8080/"
        },
        "id": "jZ935I8Wahet",
        "outputId": "0b5f9d50-5afd-4217-b290-697d04069b2d"
      },
      "outputs": [
        {
          "output_type": "stream",
          "name": "stdout",
          "text": [
            "Index(['Content', 'Hate', 'Non-Hate'], dtype='object')\n"
          ]
        }
      ],
      "source": [
        "import pandas as pd\n",
        "# Load your dataset\n",
        "data = pd.read_csv('svm_stage1_dataset.csv')\n",
        "print(data.columns)\n"
      ]
    },
    {
      "cell_type": "code",
      "execution_count": null,
      "metadata": {
        "colab": {
          "base_uri": "https://localhost:8080/"
        },
        "id": "op9jSjHib3_X",
        "outputId": "b5de28b4-40ea-4105-eb1b-514517730fc9"
      },
      "outputs": [
        {
          "output_type": "stream",
          "name": "stdout",
          "text": [
            "Training the first SVM: Hate vs Non-Hate\n",
            "First SVM training complete.\n"
          ]
        },
        {
          "output_type": "execute_result",
          "data": {
            "text/plain": [
              "['svm_hate_non_hate_model.joblib']"
            ]
          },
          "metadata": {},
          "execution_count": 46
        }
      ],
      "source": [
        "import pandas as pd\n",
        "from sklearn.model_selection import train_test_split\n",
        "from sklearn.svm import SVC\n",
        "from sklearn.feature_extraction.text import TfidfVectorizer\n",
        "from sklearn.multioutput import MultiOutputClassifier\n",
        "from joblib import dump\n",
        "\n",
        "# Load your dataset\n",
        "data = pd.read_csv('svm_stage1_dataset.csv')\n",
        "\n",
        "# Split the dataset into features (X) and labels (y)\n",
        "X = data['Content']\n",
        "y_hate_non_hate = data[['Hate', 'Non-Hate']]\n",
        "\n",
        "# Create TF-IDF vectorizer with the maximum number of features\n",
        "max_features = 25718  # Use the correct maximum number of features\n",
        "tfidf_vectorizer = TfidfVectorizer(max_features=max_features)\n",
        "\n",
        "# Vectorize the text data\n",
        "X_tfidf = tfidf_vectorizer.fit_transform(X)\n",
        "\n",
        "# First SVM: Hate vs Non-Hate\n",
        "X_train, X_test, y_train, y_test = train_test_split(X_tfidf, y_hate_non_hate, test_size=0.2, random_state=42)\n",
        "\n",
        "print(\"Training the first SVM: Hate vs Non-Hate\")\n",
        "svm_hate_non_hate = MultiOutputClassifier(SVC(kernel='linear'))\n",
        "svm_hate_non_hate.fit(X_train, y_train)\n",
        "print(\"First SVM training complete.\")\n",
        "\n",
        "# Save the first SVM model\n",
        "dump(svm_hate_non_hate, 'svm_hate_non_hate_model.joblib')"
      ]
    },
    {
      "cell_type": "code",
      "execution_count": null,
      "metadata": {
        "colab": {
          "base_uri": "https://localhost:8080/",
          "height": 638
        },
        "id": "iVkPMXrspI78",
        "outputId": "66c1caf9-b32c-47b1-9097-c4eb5296504f"
      },
      "outputs": [
        {
          "output_type": "stream",
          "name": "stdout",
          "text": [
            "Accuracy: 0.89\n",
            "Precision: 0.90\n",
            "Recall: 0.90\n",
            "F1-Score: 0.89\n"
          ]
        },
        {
          "output_type": "display_data",
          "data": {
            "text/plain": [
              "<Figure size 800x600 with 2 Axes>"
            ],
            "image/png": "[encoded data removed]"
          },
          "metadata": {}
        }
      ],
      "source": [
        "import pandas as pd\n",
        "import numpy as np\n",
        "from sklearn.model_selection import train_test_split\n",
        "from sklearn.svm import SVC\n",
        "from sklearn.feature_extraction.text import TfidfVectorizer\n",
        "from sklearn.metrics import accuracy_score, precision_score, recall_score, f1_score, confusion_matrix\n",
        "import matplotlib.pyplot as plt\n",
        "import seaborn as sns\n",
        "from joblib import load\n",
        "\n",
        "# Load your dataset\n",
        "data = pd.read_csv('svm_stage1_dataset.csv')\n",
        "\n",
        "# Split the dataset into features (X) and labels (y)\n",
        "X = data['Content']\n",
        "y_hate_non_hate = data[['Hate', 'Non-Hate']]\n",
        "\n",
        "# Create TF-IDF vectorizer with the maximum number of features\n",
        "max_features = 25718  # Use the correct maximum number of features\n",
        "tfidf_vectorizer = TfidfVectorizer(max_features=max_features)\n",
        "\n",
        "# Vectorize the text data\n",
        "X_tfidf = tfidf_vectorizer.fit_transform(X)\n",
        "\n",
        "# Split the dataset into training and testing sets\n",
        "X_train, X_test, y_train, y_test = train_test_split(X_tfidf, y_hate_non_hate, test_size=0.2, random_state=42)\n",
        "\n",
        "# Load the pre-trained SVM model (assuming it's already trained and saved)\n",
        "svm_hate_non_hate = load('svm_hate_non_hate_model.joblib')\n",
        "\n",
        "# Make predictions on the test data\n",
        "y_pred = svm_hate_non_hate.predict(X_test)\n",
        "\n",
        "# Evaluate the model\n",
        "accuracy = accuracy_score(y_test, y_pred)\n",
        "precision = precision_score(y_test, y_pred, average='weighted')\n",
        "recall = recall_score(y_test, y_pred, average='weighted')\n",
        "f1 = f1_score(y_test, y_pred, average='weighted')\n",
        "\n",
        "# Print the evaluation metrics\n",
        "print(f\"Accuracy: {accuracy:.2f}\")\n",
        "print(f\"Precision: {precision:.2f}\")\n",
        "print(f\"Recall: {recall:.2f}\")\n",
        "print(f\"F1-Score: {f1:.2f}\")\n",
        "\n",
        "# Generate and plot the confusion matrix\n",
        "cm = confusion_matrix(y_test.values.argmax(axis=1), y_pred.argmax(axis=1))\n",
        "plt.figure(figsize=(8, 6))\n",
        "sns.heatmap(cm, annot=True, fmt='d', cmap='Blues', xticklabels=['Hate', 'Non-Hate'], yticklabels=['Hate', 'Non-Hate'])\n",
        "plt.xlabel('Predicted')\n",
        "plt.ylabel('True')\n",
        "plt.title('Confusion Matrix')\n",
        "plt.show()"
      ]
    },
    {
      "cell_type": "code",
      "execution_count": null,
      "metadata": {
        "colab": {
          "base_uri": "https://localhost:8080/"
        },
        "id": "2jVTb2pPqqGV",
        "outputId": "4eb7a57d-1823-48be-99b7-d4c2234e22e4"
      },
      "outputs": [
        {
          "output_type": "stream",
          "name": "stdout",
          "text": [
            "The sentence is classified as Hate speech.\n"
          ]
        }
      ],
      "source": [
        "from sklearn.feature_extraction.text import TfidfVectorizer\n",
        "from joblib import load\n",
        "\n",
        "# Text to test (replace with your hate speech sentence)\n",
        "hate_speech_sentence = \"such senseless act could only make sense to fools like this fulani_govt thinking killing would even toughen ipobs esn biafranation agitation and would degenerate to a s\"\n",
        "\n",
        "#hate_speech_sentence = \"To hell with Igbo Religions and Culture\"\n",
        "\n",
        "# Load the pre-trained TF-IDF vectorizer and SVM model\n",
        "tfidf_vectorizer = load('tfidf_vectorizer.joblib')  # Load the pre-trained vectorizer\n",
        "svm_hate_non_hate = load('svm_hate_non_hate_model.joblib')\n",
        "\n",
        "# Vectorize the test sentence\n",
        "test_sentence_tfidf = tfidf_vectorizer.transform([hate_speech_sentence])\n",
        "\n",
        "# Make a prediction\n",
        "prediction = svm_hate_non_hate.predict(test_sentence_tfidf)\n",
        "\n",
        "# Print the prediction (1 for Hate, 0 for Non-Hate)\n",
        "if prediction[0][0] == 1:\n",
        "    print(\"The sentence is classified as Hate speech.\")\n",
        "else:\n",
        "    print(\"The sentence is classified as Non-Hate speech.\")\n"
      ]
    },
    {
      "cell_type": "code",
      "execution_count": null,
      "metadata": {
        "colab": {
          "base_uri": "https://localhost:8080/"
        },
        "id": "4eISkAU1t2Fh",
        "outputId": "39116399-11aa-4d57-a7c8-5f584861981f"
      },
      "outputs": [
        {
          "output_type": "stream",
          "name": "stdout",
          "text": [
            "Index(['Content', 'Religious', 'Ethnicity', 'Other', 'Religion_Ethnicity'], dtype='object')\n"
          ]
        }
      ],
      "source": [
        "import pandas as pd\n",
        "# Load your dataset\n",
        "data = pd.read_csv('dataset_without_non_hate_svm_2.csv')\n",
        "print(data.columns)\n"
      ]
    },
    {
      "cell_type": "code",
      "execution_count": null,
      "metadata": {
        "colab": {
          "base_uri": "https://localhost:8080/"
        },
        "id": "YQgijAMB6xL4",
        "outputId": "3861a4a2-8661-4478-c726-44e5e6642b8f"
      },
      "outputs": [
        {
          "output_type": "stream",
          "name": "stdout",
          "text": [
            "Maximum number of features in the TF-IDF matrix: (1994, 5586)\n"
          ]
        }
      ],
      "source": [
        "import pandas as pd\n",
        "from sklearn.feature_extraction.text import TfidfVectorizer\n",
        "from joblib import dump\n",
        "\n",
        "# Load your dataset\n",
        "data = pd.read_csv('dataset_without_non_hate_svm_2.csv')\n",
        "\n",
        "# Extract the text data\n",
        "X = data['Content']\n",
        "\n",
        "# Create TF-IDF vectorizer without limiting features initially\n",
        "tfidf_vectorizer = TfidfVectorizer()\n",
        "\n",
        "# Fit and transform the text data to get the TF-IDF matrix\n",
        "X_tfidf = tfidf_vectorizer.fit_transform(X)\n",
        "\n",
        "# Save the TF-IDF vectorizer to a joblib file\n",
        "dump(tfidf_vectorizer, 'second_svm_other_religious_ethnicity_tfidf_vectorizer.joblib')\n",
        "\n",
        "# Get the maximum number of features\n",
        "max_features = X_tfidf.shape\n",
        "\n",
        "print(f\"Maximum number of features in the TF-IDF matrix: {max_features}\")\n"
      ]
    },
    {
      "cell_type": "markdown",
      "source": [
        "Second SVm"
      ],
      "metadata": {
        "id": "DSmIEaF6UZAC"
      }
    },
    {
      "cell_type": "code",
      "execution_count": null,
      "metadata": {
        "colab": {
          "base_uri": "https://localhost:8080/"
        },
        "id": "mMS4SKHR2hVu",
        "outputId": "d268106e-1e43-4ad0-9c55-8ac634d9d187"
      },
      "outputs": [
        {
          "output_type": "execute_result",
          "data": {
            "text/plain": [
              "['tfidf_vectors_svm2.joblib']"
            ]
          },
          "metadata": {},
          "execution_count": 51
        }
      ],
      "source": [
        "import pandas as pd\n",
        "from sklearn.feature_extraction.text import TfidfVectorizer\n",
        "from joblib import dump\n",
        "\n",
        "# Load your dataset\n",
        "data = pd.read_csv('dataset_without_non_hate_svm_2.csv')\n",
        "\n",
        "# Extract the text data\n",
        "X = data['Content']\n",
        "\n",
        "# Create TF-IDF vectorizer with the maximum number of features\n",
        "max_features = 5586  # Use the correct maximum number of features\n",
        "tfidf_vectorizer = TfidfVectorizer(max_features=max_features)\n",
        "\n",
        "# Vectorize the text data\n",
        "X_tfidf = tfidf_vectorizer.fit_transform(X)\n",
        "\n",
        "# Save the TF-IDF vectorizer to a file\n",
        "dump(tfidf_vectorizer, 'tfidf_vectorizer_svm2.joblib')\n",
        "\n",
        "# Save the TF-IDF vectors to a file\n",
        "dump(X_tfidf, 'tfidf_vectors_svm2.joblib')\n"
      ]
    },
    {
      "cell_type": "code",
      "source": [],
      "metadata": {
        "id": "53WNZtEOUdpX"
      },
      "execution_count": null,
      "outputs": []
    },
    {
      "cell_type": "code",
      "execution_count": null,
      "metadata": {
        "colab": {
          "base_uri": "https://localhost:8080/"
        },
        "id": "Ms77ivwHu8pZ",
        "outputId": "c90da981-65b2-44c1-90b9-c462864e24b8"
      },
      "outputs": [
        {
          "output_type": "stream",
          "name": "stdout",
          "text": [
            "Training the SVM: Other vs Religion_Ethnicity\n",
            "SVM training complete.\n",
            "Other:\n",
            "Accuracy: 0.97\n",
            "Precision: 0.97\n",
            "Recall: 0.97\n",
            "F1-Score: 0.96\n",
            "\n",
            "Religion_Ethnicity:\n",
            "Accuracy: 0.97\n",
            "Precision: 0.97\n",
            "Recall: 0.97\n",
            "F1-Score: 0.97\n",
            "\n"
          ]
        },
        {
          "output_type": "stream",
          "name": "stderr",
          "text": [
            "/usr/local/lib/python3.10/dist-packages/sklearn/metrics/_classification.py:1344: UndefinedMetricWarning: Precision is ill-defined and being set to 0.0 in labels with no predicted samples. Use `zero_division` parameter to control this behavior.\n",
            "  _warn_prf(average, modifier, msg_start, len(result))\n"
          ]
        }
      ],
      "source": [
        "import pandas as pd\n",
        "from sklearn.model_selection import train_test_split\n",
        "from sklearn.svm import SVC\n",
        "from sklearn.feature_extraction.text import TfidfVectorizer\n",
        "from sklearn.multioutput import MultiOutputClassifier\n",
        "from sklearn.metrics import accuracy_score, precision_score, recall_score, f1_score, multilabel_confusion_matrix\n",
        "import matplotlib.pyplot as plt\n",
        "import seaborn as sns\n",
        "from joblib import dump\n",
        "\n",
        "# Load your dataset for the new task\n",
        "data = pd.read_csv('svm_stage2_dataset.csv')\n",
        "\n",
        "# Split the dataset into features (X) and labels (y)\n",
        "X = data['Content']\n",
        "y_other_religion_ethnicity = data[['Other', 'Religion_Ethnicity']]\n",
        "\n",
        "# Create TF-IDF vectorizer with the maximum number of features\n",
        "max_features = 5586   # Use the correct maximum number of features\n",
        "tfidf_vectorizer = TfidfVectorizer(max_features=max_features)\n",
        "\n",
        "# Vectorize the text data\n",
        "X_tfidf = tfidf_vectorizer.fit_transform(X)\n",
        "\n",
        "# Split the dataset into training and testing sets\n",
        "X_train, X_test, y_train, y_test = train_test_split(X_tfidf, y_other_religion_ethnicity, test_size=0.2, random_state=42)\n",
        "\n",
        "# First SVM: Other vs Religion_Ethnicity\n",
        "print(\"Training the SVM: Other vs Religion_Ethnicity\")\n",
        "svm_other_religion_ethnicity = MultiOutputClassifier(SVC(kernel='linear'))\n",
        "svm_other_religion_ethnicity.fit(X_train, y_train)\n",
        "print(\"SVM training complete.\")\n",
        "\n",
        "# Save the SVM model\n",
        "dump(svm_other_religion_ethnicity, 'svm_other_religion_ethnicity_model.joblib')\n",
        "\n",
        "# Evaluation\n",
        "y_pred = svm_other_religion_ethnicity.predict(X_test)\n",
        "\n",
        "# Compute evaluation metrics for each output separately\n",
        "accuracy_scores = []\n",
        "precision_scores = []\n",
        "recall_scores = []\n",
        "f1_scores = []\n",
        "\n",
        "output_labels = ['Other', 'Religion_Ethnicity']  # Labels for each output\n",
        "\n",
        "for i in range(y_test.shape[1]):\n",
        "    accuracy_scores.append(accuracy_score(y_test.iloc[:, i], y_pred[:, i]))\n",
        "    precision_scores.append(precision_score(y_test.iloc[:, i], y_pred[:, i], average='weighted'))\n",
        "    recall_scores.append(recall_score(y_test.iloc[:, i], y_pred[:, i], average='weighted'))\n",
        "    f1_scores.append(f1_score(y_test.iloc[:, i], y_pred[:, i], average='weighted'))\n",
        "\n",
        "# Print the evaluation metrics for each output\n",
        "for i in range(y_test.shape[1]):\n",
        "    print(f\"{output_labels[i]}:\")\n",
        "    print(f\"Accuracy: {accuracy_scores[i]:.2f}\")\n",
        "    print(f\"Precision: {precision_scores[i]:.2f}\")\n",
        "    print(f\"Recall: {recall_scores[i]:.2f}\")\n",
        "    print(f\"F1-Score: {f1_scores[i]:.2f}\")\n",
        "    print()\n"
      ]
    },
    {
      "cell_type": "code",
      "source": [
        "from sklearn.metrics import confusion_matrix\n",
        "import matplotlib.pyplot as plt\n",
        "import seaborn as sns\n",
        "import numpy as np\n",
        "\n",
        "# Create confusion matrices for each output\n",
        "confusion_matrices = []\n",
        "\n",
        "for i in range(y_test.shape[1]):\n",
        "    cm = confusion_matrix(y_test.iloc[:, i], y_pred[:, i])\n",
        "    confusion_matrices.append(cm)\n",
        "\n",
        "# Plot and display the confusion matrices\n",
        "for i, cm in enumerate(confusion_matrices):\n",
        "    # Display numerical matrix\n",
        "    print(f'Confusion Matrix for {output_labels[i]}:')\n",
        "    print(cm)\n",
        "\n",
        "    # Plot confusion matrix as an image\n",
        "    plt.figure(figsize=(6, 4))\n",
        "    sns.heatmap(cm, annot=True, fmt='d', cmap='Blues')\n",
        "    plt.xlabel('Predicted')\n",
        "    plt.ylabel('True')\n",
        "    plt.title(f'Confusion Matrix for {output_labels[i]}')\n",
        "    plt.show()\n"
      ],
      "metadata": {
        "colab": {
          "base_uri": "https://localhost:8080/",
          "height": 932
        },
        "id": "7E-PCcBrCeAk",
        "outputId": "87db912f-c954-4a97-b090-66de10b20af3"
      },
      "execution_count": null,
      "outputs": [
        {
          "output_type": "stream",
          "name": "stdout",
          "text": [
            "Confusion Matrix for Other:\n",
            "[[ 122   69]\n",
            " [   5 2042]]\n"
          ]
        },
        {
          "output_type": "display_data",
          "data": {
            "text/plain": [
              "<Figure size 600x400 with 2 Axes>"
            ],
            "image/png": "[encoded data removed]"
          },
          "metadata": {}
        },
        {
          "output_type": "stream",
          "name": "stdout",
          "text": [
            "Confusion Matrix for Religion_Ethnicity:\n",
            "[[2024    3    0]\n",
            " [  63  147    0]\n",
            " [   1    0    0]]\n"
          ]
        },
        {
          "output_type": "display_data",
          "data": {
            "text/plain": [
              "<Figure size 600x400 with 2 Axes>"
            ],
            "image/png": "[encoded data removed]"
          },
          "metadata": {}
        }
      ]
    },
    {
      "cell_type": "code",
      "execution_count": null,
      "metadata": {
        "colab": {
          "base_uri": "https://localhost:8080/",
          "height": 803
        },
        "id": "zyIAIljK0yKZ",
        "outputId": "e26f3114-2235-439b-ed77-e27dcf87fba9"
      },
      "outputs": [
        {
          "output_type": "display_data",
          "data": {
            "text/plain": [
              "<Figure size 600x400 with 2 Axes>"
            ],
            "image/png": "[encoded data removed]"
          },
          "metadata": {}
        },
        {
          "output_type": "display_data",
          "data": {
            "text/plain": [
              "<Figure size 600x400 with 2 Axes>"
            ],
            "image/png": "[encoded data removed]"
          },
          "metadata": {}
        }
      ],
      "source": [
        "from sklearn.metrics import confusion_matrix\n",
        "import matplotlib.pyplot as plt\n",
        "import seaborn as sns\n",
        "\n",
        "# Create confusion matrices for each output\n",
        "confusion_matrices = []\n",
        "\n",
        "for i in range(y_test.shape[1]):\n",
        "    cm = confusion_matrix(y_test.iloc[:, i], y_pred[:, i])\n",
        "    confusion_matrices.append(cm)\n",
        "\n",
        "# Plot the confusion matrices\n",
        "for i, cm in enumerate(confusion_matrices):\n",
        "    plt.figure(figsize=(6, 4))\n",
        "    sns.heatmap(cm, annot=True, fmt='d', cmap='Blues')\n",
        "    plt.xlabel('Predicted')\n",
        "    plt.ylabel('True')\n",
        "    plt.title(f'Confusion Matrix for {output_labels[i]}')\n",
        "    plt.show()\n"
      ]
    },
    {
      "cell_type": "code",
      "execution_count": null,
      "metadata": {
        "colab": {
          "base_uri": "https://localhost:8080/"
        },
        "id": "YS1Je6p81S3T",
        "outputId": "11ec65ac-865c-4f3c-faae-c150fe6e3af1"
      },
      "outputs": [
        {
          "output_type": "stream",
          "name": "stdout",
          "text": [
            "The sentence is classified as 'Other'.\n"
          ]
        }
      ],
      "source": [
        "from sklearn.feature_extraction.text import TfidfVectorizer\n",
        "from joblib import load\n",
        "\n",
        "# Text to test\n",
        "test_sentence = \"igbo people are the most tribalistic and corrupt individuals in this nigeria theyre on the path to becoming genocidal as well ps i have igbo blood so i am not being bias esn ipob\"\n",
        "\n",
        "#test_sentence = \"such senseless act could only make sense to fools like this fulani_govt thinking killing would even toughen ipobs esn biafranation agitation and would degenerate to a s\"\n",
        "\n",
        "#test_sentence =\"ipob remains the only constant obstacle on the path of the fulani conquest of the rest of nigeria now the duty of safeguarding biafraland remains our sole focus responsibility this is why esn was created to put an end to the unchecked atrocities against innocent biafrans\"\n",
        "\n",
        "# Load the pre-trained TF-IDF vectorizer and SVM model\n",
        "tfidf_vectorizer = load('tfidf_vectorizer_svm2.joblib')  # Load the pre-trained vectorizer\n",
        "svm_other_religion_ethnicity = load('svm_other_religion_ethnicity_model.joblib')\n",
        "\n",
        "# Vectorize the test sentence\n",
        "test_sentence_tfidf = tfidf_vectorizer.transform([test_sentence])\n",
        "\n",
        "# Make a prediction\n",
        "prediction = svm_other_religion_ethnicity.predict(test_sentence_tfidf)\n",
        "\n",
        "# Print the prediction (1 for 'Other', 0 for 'Religion_Ethnicity')\n",
        "if prediction[0][0] == 1:\n",
        "    print(\"The sentence is classified as 'Other'.\")\n",
        "else:\n",
        "    print(\"The sentence is classified as 'Religion_Ethnicity'.\")\n"
      ]
    },
    {
      "cell_type": "code",
      "execution_count": null,
      "metadata": {
        "colab": {
          "base_uri": "https://localhost:8080/"
        },
        "id": "ioLgtJlS1Ujy",
        "outputId": "d24019c8-1752-4ab6-eecf-fcc55a50b0bd"
      },
      "outputs": [
        {
          "output_type": "stream",
          "name": "stdout",
          "text": [
            "Number of rows in the dataset: 531\n",
            "First five rows of the dataset:\n",
            "                                             Content  Religious  Ethnicity\n",
            "0   madness of the highest order if gumi or whate...          1          0\n",
            "1  delete threats esn we curse workers of iniquit...          1          0\n",
            "2  coranavirus not a single pastor in africa prop...          1          0\n",
            "3   i dunno when youll have common sense enough t...          1          0\n",
            "4  to all my friends and families and enemies who...          1          0\n"
          ]
        }
      ],
      "source": [
        "# Read the dataset\n",
        "df = pd.read_csv('dataset_without_others_and_non_hate_svm_3.csv')\n",
        "\n",
        "# Count the number of rows in the dataset\n",
        "num_rows = len(df)\n",
        "print(f\"Number of rows in the dataset: {num_rows}\")\n",
        "\n",
        "# Display the first five rows of the dataset\n",
        "print(\"First five rows of the dataset:\")\n",
        "print(df.head())\n"
      ]
    },
    {
      "cell_type": "code",
      "execution_count": null,
      "metadata": {
        "colab": {
          "base_uri": "https://localhost:8080/"
        },
        "id": "ClRGk_gU_E0L",
        "outputId": "973263e5-bf85-4f2f-c612-a7f1237abd5d"
      },
      "outputs": [
        {
          "output_type": "stream",
          "name": "stdout",
          "text": [
            "Maximum number of features in the TF-IDF matrix: (531, 2049)\n"
          ]
        }
      ],
      "source": [
        "import pandas as pd\n",
        "from sklearn.feature_extraction.text import TfidfVectorizer\n",
        "from joblib import dump\n",
        "\n",
        "# Load your dataset\n",
        "data = pd.read_csv('dataset_without_others_and_non_hate_svm_3.csv')\n",
        "\n",
        "# Extract the text data\n",
        "X = data['Content']\n",
        "\n",
        "# Create TF-IDF vectorizer without limiting features initially\n",
        "tfidf_vectorizer = TfidfVectorizer()\n",
        "\n",
        "# Fit and transform the text data to get the TF-IDF matrix\n",
        "X_tfidf = tfidf_vectorizer.fit_transform(X)\n",
        "\n",
        "# Save the TF-IDF vectorizer to a joblib file\n",
        "dump(tfidf_vectorizer, 'third_svm_religious_ethnicity_tfidf_vectorizer.joblib')\n",
        "\n",
        "# Get the maximum number of features\n",
        "max_features = X_tfidf.shape\n",
        "\n",
        "print(f\"Maximum number of features in the TF-IDF matrix: {max_features}\")\n"
      ]
    },
    {
      "cell_type": "code",
      "execution_count": null,
      "metadata": {
        "colab": {
          "base_uri": "https://localhost:8080/"
        },
        "id": "e3zb2Yhi3lhH",
        "outputId": "d4ea490d-e522-4ebf-e822-b6d620235d9a"
      },
      "outputs": [
        {
          "output_type": "execute_result",
          "data": {
            "text/plain": [
              "['tfidf_vectors_svm3.joblib']"
            ]
          },
          "metadata": {},
          "execution_count": 58
        }
      ],
      "source": [
        "import pandas as pd\n",
        "from sklearn.feature_extraction.text import TfidfVectorizer\n",
        "from joblib import dump\n",
        "\n",
        "# Load your dataset\n",
        "data = pd.read_csv('dataset_without_others_and_non_hate_svm_3.csv')\n",
        "\n",
        "# Extract the text data\n",
        "X = data['Content']\n",
        "\n",
        "# Create TF-IDF vectorizer with the maximum number of features\n",
        "max_features = 2043  # Use the correct maximum number of features\n",
        "tfidf_vectorizer = TfidfVectorizer(max_features=max_features)\n",
        "\n",
        "# Vectorize the text data\n",
        "X_tfidf = tfidf_vectorizer.fit_transform(X)\n",
        "\n",
        "# Save the TF-IDF vectorizer to a file\n",
        "dump(tfidf_vectorizer, 'tfidf_vectorizer_svm3.joblib')\n",
        "\n",
        "# Save the TF-IDF vectors to a file\n",
        "dump(X_tfidf, 'tfidf_vectors_svm3.joblib')\n"
      ]
    },
    {
      "cell_type": "code",
      "execution_count": null,
      "metadata": {
        "colab": {
          "base_uri": "https://localhost:8080/"
        },
        "id": "TsEjGXrLb51G",
        "outputId": "44b343e7-1dd8-4af5-f315-f6be071dfb5d"
      },
      "outputs": [
        {
          "output_type": "stream",
          "name": "stdout",
          "text": [
            "Maximum number of features in the TF-IDF matrix: 2049\n"
          ]
        }
      ],
      "source": [
        "import pandas as pd\n",
        "from sklearn.feature_extraction.text import TfidfVectorizer\n",
        "from joblib import dump\n",
        "\n",
        "# Load your dataset\n",
        "data = pd.read_csv('dataset_without_others_and_non_hate_svm_3.csv')\n",
        "\n",
        "# Extract the text data\n",
        "X = data['Content']\n",
        "\n",
        "# Create TF-IDF vectorizer without limiting features initially\n",
        "tfidf_vectorizer = TfidfVectorizer()\n",
        "\n",
        "# Fit and transform the text data to get the TF-IDF matrix\n",
        "X_tfidf = tfidf_vectorizer.fit_transform(X)\n",
        "\n",
        "# Save the TF-IDF vectorizer to a joblib file\n",
        "dump(tfidf_vectorizer, 'third_svm_religious_ethnicity_tfidf_vectorizer.joblib')\n",
        "\n",
        "# Get the maximum number of features\n",
        "max_features = X_tfidf.shape[1]  # Use shape[1] to get the number of features\n",
        "\n",
        "print(f\"Maximum number of features in the TF-IDF matrix: {max_features}\")\n"
      ]
    },
    {
      "cell_type": "code",
      "execution_count": null,
      "metadata": {
        "colab": {
          "base_uri": "https://localhost:8080/"
        },
        "id": "E_LPEzOn3yxg",
        "outputId": "d960ec19-790f-4718-b60a-50ab38e4e9e8"
      },
      "outputs": [
        {
          "output_type": "stream",
          "name": "stdout",
          "text": [
            "Index(['Content', 'Religious', 'Ethnicity'], dtype='object')\n"
          ]
        }
      ],
      "source": [
        "import pandas as pd\n",
        "# Load your dataset\n",
        "data = pd.read_csv('dataset_without_others_and_non_hate_svm_3.csv')\n",
        "print(data.columns)\n"
      ]
    },
    {
      "cell_type": "code",
      "execution_count": null,
      "metadata": {
        "colab": {
          "base_uri": "https://localhost:8080/"
        },
        "id": "8ILVfsyd4JK1",
        "outputId": "f2650816-167e-46bf-ae6c-2c295365a25e"
      },
      "outputs": [
        {
          "output_type": "stream",
          "name": "stdout",
          "text": [
            "Training the SVM: Religious vs Ethnicity\n",
            "SVM training complete.\n",
            "Religious:\n",
            "Accuracy: 0.93\n",
            "Precision: 0.93\n",
            "Recall: 0.93\n",
            "F1-Score: 0.93\n",
            "\n",
            "Ethnicity:\n",
            "Accuracy: 0.93\n",
            "Precision: 0.93\n",
            "Recall: 0.93\n",
            "F1-Score: 0.93\n",
            "\n"
          ]
        }
      ],
      "source": [
        "import pandas as pd\n",
        "from sklearn.model_selection import train_test_split\n",
        "from sklearn.svm import SVC\n",
        "from sklearn.feature_extraction.text import TfidfVectorizer\n",
        "from sklearn.multioutput import MultiOutputClassifier\n",
        "from sklearn.metrics import accuracy_score, precision_score, recall_score, f1_score, multilabel_confusion_matrix\n",
        "import matplotlib.pyplot as plt\n",
        "import seaborn as sns\n",
        "from joblib import dump\n",
        "\n",
        "# Load your dataset for the new task\n",
        "data = pd.read_csv('dataset_without_others_and_non_hate_svm_3.csv')\n",
        "\n",
        "# Split the dataset into features (X) and labels (y)\n",
        "X = data['Content']\n",
        "y_other_religion_ethnicity = data[['Religious', 'Ethnicity']]\n",
        "\n",
        "# Create TF-IDF vectorizer with the maximum number of features\n",
        "max_features = 2043   # Use the correct maximum number of features\n",
        "tfidf_vectorizer = TfidfVectorizer(max_features=max_features)\n",
        "\n",
        "# Vectorize the text data\n",
        "X_tfidf = tfidf_vectorizer.fit_transform(X)\n",
        "\n",
        "# Split the dataset into training and testing sets\n",
        "X_train, X_test, y_train, y_test = train_test_split(X_tfidf, y_other_religion_ethnicity, test_size=0.2, random_state=42)\n",
        "\n",
        "# First SVM: Religious vs Ethnicity\n",
        "print(\"Training the SVM: Religious vs Ethnicity\")\n",
        "svm_other_religion_ethnicity = MultiOutputClassifier(SVC(kernel='linear'))\n",
        "svm_other_religion_ethnicity.fit(X_train, y_train)\n",
        "print(\"SVM training complete.\")\n",
        "\n",
        "# Save the SVM model\n",
        "dump(svm_other_religion_ethnicity, 'svm_religion_ethnicity_model.joblib')\n",
        "\n",
        "# Evaluation\n",
        "y_pred = svm_other_religion_ethnicity.predict(X_test)\n",
        "\n",
        "# Compute evaluation metrics for each output separately\n",
        "accuracy_scores = []\n",
        "precision_scores = []\n",
        "recall_scores = []\n",
        "f1_scores = []\n",
        "\n",
        "output_labels = ['Religious', 'Ethnicity']  # Labels for each output\n",
        "\n",
        "for i in range(y_test.shape[1]):\n",
        "    accuracy_scores.append(accuracy_score(y_test.iloc[:, i], y_pred[:, i]))\n",
        "    precision_scores.append(precision_score(y_test.iloc[:, i], y_pred[:, i], average='weighted'))\n",
        "    recall_scores.append(recall_score(y_test.iloc[:, i], y_pred[:, i], average='weighted'))\n",
        "    f1_scores.append(f1_score(y_test.iloc[:, i], y_pred[:, i], average='weighted'))\n",
        "\n",
        "# Print the evaluation metrics for each output\n",
        "for i in range(y_test.shape[1]):\n",
        "    print(f\"{output_labels[i]}:\")\n",
        "    print(f\"Accuracy: {accuracy_scores[i]:.2f}\")\n",
        "    print(f\"Precision: {precision_scores[i]:.2f}\")\n",
        "    print(f\"Recall: {recall_scores[i]:.2f}\")\n",
        "    print(f\"F1-Score: {f1_scores[i]:.2f}\")\n",
        "    print()\n"
      ]
    },
    {
      "cell_type": "code",
      "source": [
        "from sklearn.metrics import multilabel_confusion_matrix\n",
        "import matplotlib.pyplot as plt\n",
        "import seaborn as sns\n",
        "\n",
        "# Compute multilabel confusion matrix\n",
        "mcm = multilabel_confusion_matrix(y_test, y_pred)\n",
        "\n",
        "# Plot and display the confusion matrices\n",
        "for i, cm in enumerate(mcm):\n",
        "    # Display numerical matrix\n",
        "    print(f'Confusion Matrix for {output_labels[i]}:')\n",
        "    print(cm)\n",
        "\n",
        "    # Plot confusion matrix as an image\n",
        "    plt.figure(figsize=(6, 4))\n",
        "    sns.heatmap(cm, annot=True, fmt='d', cmap='Blues')\n",
        "    plt.xlabel('Predicted')\n",
        "    plt.ylabel('True')\n",
        "    plt.title(f'Confusion Matrix for {output_labels[i]}')\n",
        "    plt.show()"
      ],
      "metadata": {
        "colab": {
          "base_uri": "https://localhost:8080/",
          "height": 914
        },
        "id": "kIBKds_ZKkOl",
        "outputId": "27e6fbbe-e98d-4b38-8b04-65d1af75bb76"
      },
      "execution_count": null,
      "outputs": [
        {
          "output_type": "stream",
          "name": "stdout",
          "text": [
            "Confusion Matrix for Religious:\n",
            "[[43  5]\n",
            " [ 3 56]]\n"
          ]
        },
        {
          "output_type": "display_data",
          "data": {
            "text/plain": [
              "<Figure size 600x400 with 2 Axes>"
            ],
            "image/png": "[encoded data removed]"
          },
          "metadata": {}
        },
        {
          "output_type": "stream",
          "name": "stdout",
          "text": [
            "Confusion Matrix for Ethnicity:\n",
            "[[56  3]\n",
            " [ 5 43]]\n"
          ]
        },
        {
          "output_type": "display_data",
          "data": {
            "text/plain": [
              "<Figure size 600x400 with 2 Axes>"
            ],
            "image/png": "[encoded data removed]"
          },
          "metadata": {}
        }
      ]
    },
    {
      "cell_type": "code",
      "execution_count": null,
      "metadata": {
        "colab": {
          "base_uri": "https://localhost:8080/",
          "height": 803
        },
        "id": "0CCo1nPgcp22",
        "outputId": "e046a340-379b-4743-9297-b779ef197834"
      },
      "outputs": [
        {
          "output_type": "display_data",
          "data": {
            "text/plain": [
              "<Figure size 600x400 with 2 Axes>"
            ],
            "image/png": "[encoded data removed]"
          },
          "metadata": {}
        },
        {
          "output_type": "display_data",
          "data": {
            "text/plain": [
              "<Figure size 600x400 with 2 Axes>"
            ],
            "image/png": "[encoded data removed]"
          },
          "metadata": {}
        }
      ],
      "source": [
        "from sklearn.metrics import multilabel_confusion_matrix\n",
        "import matplotlib.pyplot as plt\n",
        "import seaborn as sns\n",
        "\n",
        "# Compute multilabel confusion matrix\n",
        "mcm = multilabel_confusion_matrix(y_test, y_pred)\n",
        "\n",
        "# Plot the confusion matrices\n",
        "for i, cm in enumerate(mcm):\n",
        "    plt.figure(figsize=(6, 4))\n",
        "    sns.heatmap(cm, annot=True, fmt='d', cmap='Blues')\n",
        "    plt.xlabel('Predicted')\n",
        "    plt.ylabel('True')\n",
        "    plt.title(f'Confusion Matrix for {output_labels[i]}')\n",
        "    plt.show()\n"
      ]
    },
    {
      "cell_type": "code",
      "execution_count": null,
      "metadata": {
        "colab": {
          "base_uri": "https://localhost:8080/"
        },
        "id": "Jvk3B-aEeuCi",
        "outputId": "4a6ba51f-8aa3-4796-bc31-d05d625d1450"
      },
      "outputs": [
        {
          "output_type": "stream",
          "name": "stdout",
          "text": [
            "The sentence is classified as 'Ethnicity'.\n"
          ]
        }
      ],
      "source": [
        "from sklearn.feature_extraction.text import TfidfVectorizer\n",
        "from joblib import load\n",
        "\n",
        "# Text to test\n",
        "#test_sentence = \"I hate Christians\"\n",
        "\n",
        "#test_sentence = \"this is the way forward for sw and oduduwa congress no bastard i repeat no bastard from the north can deal we from the west our hospitality should not be taken as sign of cowardness sundayigboho we stand with âœšðÿ_x008f_âœšðÿ_x008f_âœšðÿ_x008f_âœšðÿ_x008f_ fulani must go\"\n",
        "\n",
        "#test_sentence = \"coranavirus not a single pastor in africa prophet has volunteered to go to china to help yeye they smell sagamuonfire tinubu ooin\"\n",
        "\n",
        "test_sentence =\"nnamdikanu and sundayigboho are terrorist while bandit fulani herdmen and bokoharam are saint nigeria my country\"\n",
        "\n",
        "\n",
        "# Load the pre-trained TF-IDF vectorizer and SVM model\n",
        "tfidf_vectorizer = load('tfidf_vectorizer_svm3.joblib')  # Load the pre-trained vectorizer\n",
        "svm_other_religion_ethnicity = load('svm_religion_ethnicity_model.joblib')\n",
        "\n",
        "# Vectorize the test sentence\n",
        "test_sentence_tfidf = tfidf_vectorizer.transform([test_sentence])\n",
        "\n",
        "# Make a prediction\n",
        "prediction = svm_other_religion_ethnicity.predict(test_sentence_tfidf)\n",
        "\n",
        "# Print the prediction (1 for 'Other', 0 for 'Religion_Ethnicity')\n",
        "if prediction[0][0] == 1:\n",
        "    print(\"The sentence is classified as 'Religion'.\")\n",
        "else:\n",
        "    print(\"The sentence is classified as 'Ethnicity'.\")\n"
      ]
    },
    {
      "cell_type": "code",
      "execution_count": null,
      "metadata": {
        "colab": {
          "base_uri": "https://localhost:8080/"
        },
        "id": "0G4aMFP3wY5C",
        "outputId": "ac450bb3-76d7-48f3-bec6-264be1607c5e"
      },
      "outputs": [
        {
          "output_type": "stream",
          "name": "stdout",
          "text": [
            "The sentence is classified as 'Hate Other'.\n"
          ]
        }
      ],
      "source": [
        "from sklearn.feature_extraction.text import TfidfVectorizer\n",
        "from joblib import load\n",
        "\n",
        "# Load the pre-trained TF-IDF vectorizers and SVM models\n",
        "tfidf_vectorizer1 = load('tfidf_vectorizer.joblib')  # Load the first vectorizer\n",
        "svm_hate_non_hate = load('svm_hate_non_hate_model.joblib')  # First SVM\n",
        "tfidf_vectorizer2 = load('tfidf_vectorizer_svm2.joblib')  # Load the second vectorizer\n",
        "svm_other_religion_ethnicity = load('svm_other_religion_ethnicity_model.joblib')  # Second SVM\n",
        "tfidf_vectorizer3 = load('tfidf_vectorizer_svm3.joblib')  # Load the third vectorizer\n",
        "svm_religion_ethnicity = load('svm_religion_ethnicity_model.joblib')  # Third SVM\n",
        "\n",
        "# Define the input sentence\n",
        "#input_sentence = \"such senseless act could only make sense to fools like this fulani_govt thinking killing would even toughen ipobs esn biafranation agitation and would degenerate to a s\"\n",
        "# Expected Result: Hate Other\n",
        "\n",
        "#input_sentence = \"the federal govt think that mass murder of ipob is the way to handle the deteriorating security situation in the southeast this is totally preposterous govt actually wants this country to implode they gave no pretences over their intentions \"\n",
        "# Expected Result: Hate Religion'\n",
        "\n",
        "input_sentence= \"yall dont want to see change when you are ready you will start by stoning those your sheikhs and imams they are using to enslave your brains then you will not sorosoke ðÿ\"\n",
        "# Expected Result: Hate Ethnicity\n",
        "\n",
        "# Vectorize the input sentence using the first vectorizer\n",
        "input_sentence_tfidf1 = tfidf_vectorizer1.transform([input_sentence])\n",
        "\n",
        "# Make a prediction with the first SVM\n",
        "prediction1 = svm_hate_non_hate.predict(input_sentence_tfidf1)\n",
        "\n",
        "# Check if the first SVM predicts \"Hate\"\n",
        "if prediction1[0][0] == 1:\n",
        "    # If \"Hate\" is predicted, proceed with the second classification\n",
        "    # Vectorize the input sentence using the second vectorizer\n",
        "    input_sentence_tfidf2 = tfidf_vectorizer2.transform([input_sentence])\n",
        "\n",
        "    # Make a prediction with the second SVM\n",
        "    prediction2 = svm_other_religion_ethnicity.predict(input_sentence_tfidf2)\n",
        "\n",
        "    # Check if the second SVM predicts \"Other\" or \"Religion_Ethnicity\"\n",
        "    if prediction2[0][0] == 1:\n",
        "        # If \"Other\" is predicted, you can perform further actions or classifications here\n",
        "        print(\"The sentence is classified as 'Hate Other'.\")\n",
        "    else:\n",
        "        # If \"Religion_Ethnicity\" is predicted, proceed with the third classification\n",
        "        # Vectorize the input sentence using the third vectorizer\n",
        "        input_sentence_tfidf3 = tfidf_vectorizer3.transform([input_sentence])\n",
        "\n",
        "        # Make a prediction with the third SVM\n",
        "        prediction3 = svm_religion_ethnicity.predict(input_sentence_tfidf3)\n",
        "\n",
        "        # Check if the third SVM predicts \"Religion\" or \"Ethnicity\"\n",
        "        if prediction3[0][0] == 1:\n",
        "            print(\"The sentence is classified as 'Hate Religion'.\")\n",
        "        else:\n",
        "            print(\"The sentence is classified as 'Hate Ethnicity'.\")\n",
        "else:\n",
        "    # If \"Non-Hate\" is predicted by the first SVM, you can handle it accordingly\n",
        "    print(\"The sentence is classified as Non-Hate speech.\")\n"
      ]
    },
    {
      "cell_type": "code",
      "execution_count": null,
      "metadata": {
        "colab": {
          "base_uri": "https://localhost:8080/"
        },
        "id": "tqRkcWcHMKvJ",
        "outputId": "7cde665a-136d-4b9b-d682-6e320d1abeea"
      },
      "outputs": [
        {
          "output_type": "stream",
          "name": "stdout",
          "text": [
            "Requirement already satisfied: ipywidgets in /usr/local/lib/python3.10/dist-packages (7.7.1)\n",
            "Requirement already satisfied: ipykernel>=4.5.1 in /usr/local/lib/python3.10/dist-packages (from ipywidgets) (5.5.6)\n",
            "Requirement already satisfied: ipython-genutils~=0.2.0 in /usr/local/lib/python3.10/dist-packages (from ipywidgets) (0.2.0)\n",
            "Requirement already satisfied: traitlets>=4.3.1 in /usr/local/lib/python3.10/dist-packages (from ipywidgets) (5.7.1)\n",
            "Requirement already satisfied: widgetsnbextension~=3.6.0 in /usr/local/lib/python3.10/dist-packages (from ipywidgets) (3.6.6)\n",
            "Requirement already satisfied: ipython>=4.0.0 in /usr/local/lib/python3.10/dist-packages (from ipywidgets) (7.34.0)\n",
            "Requirement already satisfied: jupyterlab-widgets>=1.0.0 in /usr/local/lib/python3.10/dist-packages (from ipywidgets) (3.0.9)\n",
            "Requirement already satisfied: jupyter-client in /usr/local/lib/python3.10/dist-packages (from ipykernel>=4.5.1->ipywidgets) (6.1.12)\n",
            "Requirement already satisfied: tornado>=4.2 in /usr/local/lib/python3.10/dist-packages (from ipykernel>=4.5.1->ipywidgets) (6.3.2)\n",
            "Requirement already satisfied: setuptools>=18.5 in /usr/local/lib/python3.10/dist-packages (from ipython>=4.0.0->ipywidgets) (67.7.2)\n",
            "Collecting jedi>=0.16 (from ipython>=4.0.0->ipywidgets)\n",
            "  Downloading jedi-0.19.1-py2.py3-none-any.whl (1.6 MB)\n",
            "\u001b[2K     \u001b[90m━━━━━━━━━━━━━━━━━━━━━━━━━━━━━━━━━━━━━━━━\u001b[0m \u001b[32m1.6/1.6 MB\u001b[0m \u001b[31m8.6 MB/s\u001b[0m eta \u001b[36m0:00:00\u001b[0m\n",
            "\u001b[?25hRequirement already satisfied: decorator in /usr/local/lib/python3.10/dist-packages (from ipython>=4.0.0->ipywidgets) (4.4.2)\n",
            "Requirement already satisfied: pickleshare in /usr/local/lib/python3.10/dist-packages (from ipython>=4.0.0->ipywidgets) (0.7.5)\n",
            "Requirement already satisfied: prompt-toolkit!=3.0.0,!=3.0.1,<3.1.0,>=2.0.0 in /usr/local/lib/python3.10/dist-packages (from ipython>=4.0.0->ipywidgets) (3.0.41)\n",
            "Requirement already satisfied: pygments in /usr/local/lib/python3.10/dist-packages (from ipython>=4.0.0->ipywidgets) (2.16.1)\n",
            "Requirement already satisfied: backcall in /usr/local/lib/python3.10/dist-packages (from ipython>=4.0.0->ipywidgets) (0.2.0)\n",
            "Requirement already satisfied: matplotlib-inline in /usr/local/lib/python3.10/dist-packages (from ipython>=4.0.0->ipywidgets) (0.1.6)\n",
            "Requirement already satisfied: pexpect>4.3 in /usr/local/lib/python3.10/dist-packages (from ipython>=4.0.0->ipywidgets) (4.9.0)\n",
            "Requirement already satisfied: notebook>=4.4.1 in /usr/local/lib/python3.10/dist-packages (from widgetsnbextension~=3.6.0->ipywidgets) (6.5.5)\n",
            "Requirement already satisfied: parso<0.9.0,>=0.8.3 in /usr/local/lib/python3.10/dist-packages (from jedi>=0.16->ipython>=4.0.0->ipywidgets) (0.8.3)\n",
            "Requirement already satisfied: jinja2 in /usr/local/lib/python3.10/dist-packages (from notebook>=4.4.1->widgetsnbextension~=3.6.0->ipywidgets) (3.1.2)\n",
            "Requirement already satisfied: pyzmq<25,>=17 in /usr/local/lib/python3.10/dist-packages (from notebook>=4.4.1->widgetsnbextension~=3.6.0->ipywidgets) (23.2.1)\n",
            "Requirement already satisfied: argon2-cffi in /usr/local/lib/python3.10/dist-packages (from notebook>=4.4.1->widgetsnbextension~=3.6.0->ipywidgets) (23.1.0)\n",
            "Requirement already satisfied: jupyter-core>=4.6.1 in /usr/local/lib/python3.10/dist-packages (from notebook>=4.4.1->widgetsnbextension~=3.6.0->ipywidgets) (5.5.0)\n",
            "Requirement already satisfied: nbformat in /usr/local/lib/python3.10/dist-packages (from notebook>=4.4.1->widgetsnbextension~=3.6.0->ipywidgets) (5.9.2)\n",
            "Requirement already satisfied: nbconvert>=5 in /usr/local/lib/python3.10/dist-packages (from notebook>=4.4.1->widgetsnbextension~=3.6.0->ipywidgets) (6.5.4)\n",
            "Requirement already satisfied: nest-asyncio>=1.5 in /usr/local/lib/python3.10/dist-packages (from notebook>=4.4.1->widgetsnbextension~=3.6.0->ipywidgets) (1.5.8)\n",
            "Requirement already satisfied: Send2Trash>=1.8.0 in /usr/local/lib/python3.10/dist-packages (from notebook>=4.4.1->widgetsnbextension~=3.6.0->ipywidgets) (1.8.2)\n",
            "Requirement already satisfied: terminado>=0.8.3 in /usr/local/lib/python3.10/dist-packages (from notebook>=4.4.1->widgetsnbextension~=3.6.0->ipywidgets) (0.18.0)\n",
            "Requirement already satisfied: prometheus-client in /usr/local/lib/python3.10/dist-packages (from notebook>=4.4.1->widgetsnbextension~=3.6.0->ipywidgets) (0.19.0)\n",
            "Requirement already satisfied: nbclassic>=0.4.7 in /usr/local/lib/python3.10/dist-packages (from notebook>=4.4.1->widgetsnbextension~=3.6.0->ipywidgets) (1.0.0)\n",
            "Requirement already satisfied: python-dateutil>=2.1 in /usr/local/lib/python3.10/dist-packages (from jupyter-client->ipykernel>=4.5.1->ipywidgets) (2.8.2)\n",
            "Requirement already satisfied: ptyprocess>=0.5 in /usr/local/lib/python3.10/dist-packages (from pexpect>4.3->ipython>=4.0.0->ipywidgets) (0.7.0)\n",
            "Requirement already satisfied: wcwidth in /usr/local/lib/python3.10/dist-packages (from prompt-toolkit!=3.0.0,!=3.0.1,<3.1.0,>=2.0.0->ipython>=4.0.0->ipywidgets) (0.2.12)\n",
            "Requirement already satisfied: platformdirs>=2.5 in /usr/local/lib/python3.10/dist-packages (from jupyter-core>=4.6.1->notebook>=4.4.1->widgetsnbextension~=3.6.0->ipywidgets) (4.1.0)\n",
            "Requirement already satisfied: jupyter-server>=1.8 in /usr/local/lib/python3.10/dist-packages (from nbclassic>=0.4.7->notebook>=4.4.1->widgetsnbextension~=3.6.0->ipywidgets) (1.24.0)\n",
            "Requirement already satisfied: notebook-shim>=0.2.3 in /usr/local/lib/python3.10/dist-packages (from nbclassic>=0.4.7->notebook>=4.4.1->widgetsnbextension~=3.6.0->ipywidgets) (0.2.3)\n",
            "Requirement already satisfied: lxml in /usr/local/lib/python3.10/dist-packages (from nbconvert>=5->notebook>=4.4.1->widgetsnbextension~=3.6.0->ipywidgets) (4.9.3)\n",
            "Requirement already satisfied: beautifulsoup4 in /usr/local/lib/python3.10/dist-packages (from nbconvert>=5->notebook>=4.4.1->widgetsnbextension~=3.6.0->ipywidgets) (4.11.2)\n",
            "Requirement already satisfied: bleach in /usr/local/lib/python3.10/dist-packages (from nbconvert>=5->notebook>=4.4.1->widgetsnbextension~=3.6.0->ipywidgets) (6.1.0)\n",
            "Requirement already satisfied: defusedxml in /usr/local/lib/python3.10/dist-packages (from nbconvert>=5->notebook>=4.4.1->widgetsnbextension~=3.6.0->ipywidgets) (0.7.1)\n",
            "Requirement already satisfied: entrypoints>=0.2.2 in /usr/local/lib/python3.10/dist-packages (from nbconvert>=5->notebook>=4.4.1->widgetsnbextension~=3.6.0->ipywidgets) (0.4)\n",
            "Requirement already satisfied: jupyterlab-pygments in /usr/local/lib/python3.10/dist-packages (from nbconvert>=5->notebook>=4.4.1->widgetsnbextension~=3.6.0->ipywidgets) (0.3.0)\n",
            "Requirement already satisfied: MarkupSafe>=2.0 in /usr/local/lib/python3.10/dist-packages (from nbconvert>=5->notebook>=4.4.1->widgetsnbextension~=3.6.0->ipywidgets) (2.1.3)\n",
            "Requirement already satisfied: mistune<2,>=0.8.1 in /usr/local/lib/python3.10/dist-packages (from nbconvert>=5->notebook>=4.4.1->widgetsnbextension~=3.6.0->ipywidgets) (0.8.4)\n",
            "Requirement already satisfied: nbclient>=0.5.0 in /usr/local/lib/python3.10/dist-packages (from nbconvert>=5->notebook>=4.4.1->widgetsnbextension~=3.6.0->ipywidgets) (0.9.0)\n",
            "Requirement already satisfied: packaging in /usr/local/lib/python3.10/dist-packages (from nbconvert>=5->notebook>=4.4.1->widgetsnbextension~=3.6.0->ipywidgets) (23.2)\n",
            "Requirement already satisfied: pandocfilters>=1.4.1 in /usr/local/lib/python3.10/dist-packages (from nbconvert>=5->notebook>=4.4.1->widgetsnbextension~=3.6.0->ipywidgets) (1.5.0)\n",
            "Requirement already satisfied: tinycss2 in /usr/local/lib/python3.10/dist-packages (from nbconvert>=5->notebook>=4.4.1->widgetsnbextension~=3.6.0->ipywidgets) (1.2.1)\n",
            "Requirement already satisfied: fastjsonschema in /usr/local/lib/python3.10/dist-packages (from nbformat->notebook>=4.4.1->widgetsnbextension~=3.6.0->ipywidgets) (2.19.0)\n",
            "Requirement already satisfied: jsonschema>=2.6 in /usr/local/lib/python3.10/dist-packages (from nbformat->notebook>=4.4.1->widgetsnbextension~=3.6.0->ipywidgets) (4.19.2)\n",
            "Requirement already satisfied: six>=1.5 in /usr/local/lib/python3.10/dist-packages (from python-dateutil>=2.1->jupyter-client->ipykernel>=4.5.1->ipywidgets) (1.16.0)\n",
            "Requirement already satisfied: argon2-cffi-bindings in /usr/local/lib/python3.10/dist-packages (from argon2-cffi->notebook>=4.4.1->widgetsnbextension~=3.6.0->ipywidgets) (21.2.0)\n",
            "Requirement already satisfied: attrs>=22.2.0 in /usr/local/lib/python3.10/dist-packages (from jsonschema>=2.6->nbformat->notebook>=4.4.1->widgetsnbextension~=3.6.0->ipywidgets) (23.1.0)\n",
            "Requirement already satisfied: jsonschema-specifications>=2023.03.6 in /usr/local/lib/python3.10/dist-packages (from jsonschema>=2.6->nbformat->notebook>=4.4.1->widgetsnbextension~=3.6.0->ipywidgets) (2023.11.2)\n",
            "Requirement already satisfied: referencing>=0.28.4 in /usr/local/lib/python3.10/dist-packages (from jsonschema>=2.6->nbformat->notebook>=4.4.1->widgetsnbextension~=3.6.0->ipywidgets) (0.31.1)\n",
            "Requirement already satisfied: rpds-py>=0.7.1 in /usr/local/lib/python3.10/dist-packages (from jsonschema>=2.6->nbformat->notebook>=4.4.1->widgetsnbextension~=3.6.0->ipywidgets) (0.13.2)\n",
            "Requirement already satisfied: anyio<4,>=3.1.0 in /usr/local/lib/python3.10/dist-packages (from jupyter-server>=1.8->nbclassic>=0.4.7->notebook>=4.4.1->widgetsnbextension~=3.6.0->ipywidgets) (3.7.1)\n",
            "Requirement already satisfied: websocket-client in /usr/local/lib/python3.10/dist-packages (from jupyter-server>=1.8->nbclassic>=0.4.7->notebook>=4.4.1->widgetsnbextension~=3.6.0->ipywidgets) (1.7.0)\n",
            "Requirement already satisfied: cffi>=1.0.1 in /usr/local/lib/python3.10/dist-packages (from argon2-cffi-bindings->argon2-cffi->notebook>=4.4.1->widgetsnbextension~=3.6.0->ipywidgets) (1.16.0)\n",
            "Requirement already satisfied: soupsieve>1.2 in /usr/local/lib/python3.10/dist-packages (from beautifulsoup4->nbconvert>=5->notebook>=4.4.1->widgetsnbextension~=3.6.0->ipywidgets) (2.5)\n",
            "Requirement already satisfied: webencodings in /usr/local/lib/python3.10/dist-packages (from bleach->nbconvert>=5->notebook>=4.4.1->widgetsnbextension~=3.6.0->ipywidgets) (0.5.1)\n",
            "Requirement already satisfied: idna>=2.8 in /usr/local/lib/python3.10/dist-packages (from anyio<4,>=3.1.0->jupyter-server>=1.8->nbclassic>=0.4.7->notebook>=4.4.1->widgetsnbextension~=3.6.0->ipywidgets) (3.6)\n",
            "Requirement already satisfied: sniffio>=1.1 in /usr/local/lib/python3.10/dist-packages (from anyio<4,>=3.1.0->jupyter-server>=1.8->nbclassic>=0.4.7->notebook>=4.4.1->widgetsnbextension~=3.6.0->ipywidgets) (1.3.0)\n",
            "Requirement already satisfied: exceptiongroup in /usr/local/lib/python3.10/dist-packages (from anyio<4,>=3.1.0->jupyter-server>=1.8->nbclassic>=0.4.7->notebook>=4.4.1->widgetsnbextension~=3.6.0->ipywidgets) (1.2.0)\n",
            "Requirement already satisfied: pycparser in /usr/local/lib/python3.10/dist-packages (from cffi>=1.0.1->argon2-cffi-bindings->argon2-cffi->notebook>=4.4.1->widgetsnbextension~=3.6.0->ipywidgets) (2.21)\n",
            "Installing collected packages: jedi\n",
            "Successfully installed jedi-0.19.1\n"
          ]
        }
      ],
      "source": [
        "!pip install ipywidgets"
      ]
    },
    {
      "cell_type": "code",
      "execution_count": null,
      "metadata": {
        "colab": {
          "referenced_widgets": [
            "60da5ea7575f45dd86665674c9f26741",
            "4177bd63884c4d75963d72ada6614cc7",
            "667cc5a2bbb34345ac0529f53b2b3a47",
            "c359d6986c894c018c3b377ed042c856",
            "6c80e3d521794683906b6c7e19f1abf4",
            "a8d4ecb244e8493daa1b601f05c17244",
            "ef127a5529d24284887ea9888152c6a6",
            "507d26df3efd47f4bb3a376da97365d3",
            "345615672ce54c498ce5be22f38f3861"
          ],
          "base_uri": "https://localhost:8080/",
          "height": 257
        },
        "id": "t7F1wpy__vJb",
        "outputId": "756e09e6-fe4a-4a4b-bf36-4581b6032099"
      },
      "outputs": [
        {
          "output_type": "display_data",
          "data": {
            "text/plain": [
              "Textarea(value='', layout=Layout(height='200px', width='400px'), placeholder='Enter text for classification...…"
            ],
            "application/vnd.jupyter.widget-view+json": {
              "version_major": 2,
              "version_minor": 0,
              "model_id": "60da5ea7575f45dd86665674c9f26741"
            }
          },
          "metadata": {}
        },
        {
          "output_type": "display_data",
          "data": {
            "text/plain": [
              "Button(description='Classify', style=ButtonStyle())"
            ],
            "application/vnd.jupyter.widget-view+json": {
              "version_major": 2,
              "version_minor": 0,
              "model_id": "c359d6986c894c018c3b377ed042c856"
            }
          },
          "metadata": {}
        },
        {
          "output_type": "display_data",
          "data": {
            "text/plain": [
              "HTML(value='')"
            ],
            "application/vnd.jupyter.widget-view+json": {
              "version_major": 2,
              "version_minor": 0,
              "model_id": "ef127a5529d24284887ea9888152c6a6"
            }
          },
          "metadata": {}
        }
      ],
      "source": [
        "from ipywidgets import widgets\n",
        "from IPython.display import display, HTML\n",
        "from sklearn.feature_extraction.text import TfidfVectorizer\n",
        "from joblib import load\n",
        "\n",
        "# Load the pre-trained TF-IDF vectorizers and SVM models\n",
        "tfidf_vectorizer1 = load('tfidf_vectorizer.joblib')  # Load the first vectorizer\n",
        "svm_hate_non_hate = load('svm_hate_non_hate_model.joblib')  # First SVM\n",
        "tfidf_vectorizer2 = load('tfidf_vectorizer_svm2.joblib')  # Load the second vectorizer\n",
        "svm_other_religion_ethnicity = load('svm_other_religion_ethnicity_model.joblib')  # Second SVM\n",
        "tfidf_vectorizer3 = load('tfidf_vectorizer_svm3.joblib')  # Load the third vectorizer\n",
        "svm_religion_ethnicity = load('svm_religion_ethnicity_model.joblib')  # Third SVM\n",
        "\n",
        "\n",
        "# Create a text input widget\n",
        "text_input = widgets.Textarea(\n",
        "    placeholder='Enter text for classification...',\n",
        "    layout=widgets.Layout(width='400px', height='200px')\n",
        ")\n",
        "\n",
        "# Create a button widget\n",
        "classify_button = widgets.Button(description='Classify')\n",
        "\n",
        "# Create a text widget to display the result\n",
        "result_text = widgets.HTML()\n",
        "\n",
        "# Function to classify the input sentence\n",
        "def classify_sentence(_):\n",
        "    input_sentence = text_input.value.strip()\n",
        "\n",
        "    if input_sentence:\n",
        "        # Vectorize the input sentence using the first vectorizer\n",
        "        input_sentence_tfidf1 = tfidf_vectorizer1.transform([input_sentence])\n",
        "\n",
        "        # Make a prediction with the first SVM\n",
        "        prediction1 = svm_hate_non_hate.predict(input_sentence_tfidf1)\n",
        "\n",
        "        # Check if the first SVM predicts \"Hate\"\n",
        "        if prediction1[0][0] == 1:\n",
        "            # If \"Hate\" is predicted, proceed with the second classification\n",
        "            # Vectorize the input sentence using the second vectorizer\n",
        "            input_sentence_tfidf2 = tfidf_vectorizer2.transform([input_sentence])\n",
        "\n",
        "            # Make a prediction with the second SVM\n",
        "            prediction2 = svm_other_religion_ethnicity.predict(input_sentence_tfidf2)\n",
        "\n",
        "            # Check if the second SVM predicts \"Other\" or \"Religion_Ethnicity\"\n",
        "            if prediction2[0][0] == 1:\n",
        "                result_text.value = \"The sentence is classified as 'Hate Other'.\"\n",
        "            else:\n",
        "                # If \"Religion_Ethnicity\" is predicted, proceed with the third classification\n",
        "                # Vectorize the input sentence using the third vectorizer\n",
        "                input_sentence_tfidf3 = tfidf_vectorizer3.transform([input_sentence])\n",
        "\n",
        "                # Make a prediction with the third SVM\n",
        "                prediction3 = svm_religion_ethnicity.predict(input_sentence_tfidf3)\n",
        "\n",
        "                # Check if the third SVM predicts \"Religion\" or \"Ethnicity\"\n",
        "                if prediction3[0][0] == 1:\n",
        "                    result_text.value = \"The sentence is classified as 'Hate Religion'.\"\n",
        "                else:\n",
        "                    result_text.value = \"The sentence is classified as 'Hate Ethnicity'.\"\n",
        "        else:\n",
        "            # If \"Non-Hate\" is predicted by the first SVM, you can handle it accordingly\n",
        "            result_text.value = \"The sentence is classified as Non-Hate speech.\"\n",
        "    else:\n",
        "        result_text.value = \"Please enter a sentence for classification.\"\n",
        "\n",
        "# Define the classify_button click event\n",
        "classify_button.on_click(classify_sentence)\n",
        "\n",
        "# Display the widgets\n",
        "display(text_input, classify_button, result_text)\n"
      ]
    },
    {
      "cell_type": "code",
      "execution_count": null,
      "metadata": {
        "colab": {
          "referenced_widgets": [
            "1229a07f6a484d9387186dcc189343c4",
            "c20f83fa44544a278d992665ac215359",
            "c9d6034ffcb2412bb4b53b2949bbd149",
            "dda4c17db85545828afcbb7b4cb07022",
            "259b670c8cbe487fb26f9dd2476c3c8a",
            "8763e9c7e46c4673bed1418760b8b2a4",
            "f766cb7b729c473fb7a49c097a0ec959",
            "0f4892cd5deb4abb9ad493d012c58495",
            "a264f77f840d484b8e305bfcd56daee3",
            "f30b7eef937e490eb4e7c035f58c4e63",
            "fc7b312868064ec7846cc7972b3a4e4c",
            "e05ae711be2e4d3fac5e5d9720e156e8"
          ],
          "base_uri": "https://localhost:8080/",
          "height": 476
        },
        "id": "lFZKLDEfMx8c",
        "outputId": "f81f1acd-7b14-4c3b-db75-a22272d8fc6d"
      },
      "outputs": [
        {
          "output_type": "display_data",
          "data": {
            "text/plain": [
              "HTML(value='<img src=\"https://miro.medium.com/v2/resize:fit:720/format:webp/0*O_hRMkov1Gcy4msS.png\" alt=\"Place…"
            ],
            "application/vnd.jupyter.widget-view+json": {
              "version_major": 2,
              "version_minor": 0,
              "model_id": "1229a07f6a484d9387186dcc189343c4"
            }
          },
          "metadata": {}
        },
        {
          "output_type": "display_data",
          "data": {
            "text/plain": [
              "Textarea(value='', layout=Layout(height='200px', width='400px'), placeholder='Enter text for classification...…"
            ],
            "application/vnd.jupyter.widget-view+json": {
              "version_major": 2,
              "version_minor": 0,
              "model_id": "dda4c17db85545828afcbb7b4cb07022"
            }
          },
          "metadata": {}
        },
        {
          "output_type": "display_data",
          "data": {
            "text/plain": [
              "Button(description='Classify', layout=Layout(margin='10px 0'), style=ButtonStyle())"
            ],
            "application/vnd.jupyter.widget-view+json": {
              "version_major": 2,
              "version_minor": 0,
              "model_id": "f766cb7b729c473fb7a49c097a0ec959"
            }
          },
          "metadata": {}
        },
        {
          "output_type": "display_data",
          "data": {
            "text/plain": [
              "HTML(value='', layout=Layout(margin='10px 0'))"
            ],
            "application/vnd.jupyter.widget-view+json": {
              "version_major": 2,
              "version_minor": 0,
              "model_id": "f30b7eef937e490eb4e7c035f58c4e63"
            }
          },
          "metadata": {}
        }
      ],
      "source": [
        "import joblib\n",
        "import ipywidgets as widgets\n",
        "from IPython.display import display, HTML, Image\n",
        "\n",
        "# Load the trained models\n",
        "svm_hate_non_hate = joblib.load('svm_hate_non_hate_model.joblib')\n",
        "svm_other_religion_ethnicity = joblib.load('svm_other_religion_ethnicity_model.joblib')\n",
        "svm_religion_ethnicity = joblib.load('svm_religion_ethnicity_model.joblib')\n",
        "\n",
        "# Load the TF-IDF vectorizers\n",
        "tfidf_vectorizer_hate_non_hate = joblib.load('tfidf_vectorizer.joblib')\n",
        "tfidf_vectorizer_other_religion_ethnicity = joblib.load('tfidf_vectorizer_svm2.joblib')\n",
        "tfidf_vectorizer_religion_ethnicity = joblib.load('tfidf_vectorizer_svm3.joblib')\n",
        "\n",
        "\n",
        "from ipywidgets import widgets, HTML\n",
        "from IPython.display import display\n",
        "\n",
        "# Create an HTML widget for adding an image\n",
        "image_html = HTML(\n",
        "    value='<img src=\"https://miro.medium.com/v2/resize:fit:720/format:webp/0*O_hRMkov1Gcy4msS.png\" alt=\"Placeholder Image\" width=\"300px\">',\n",
        "    layout=widgets.Layout(margin='10px 0')\n",
        ")\n",
        "\n",
        "# Create a button widget with styling\n",
        "classify_button = widgets.Button(\n",
        "    description='Classify',\n",
        "    style={'font-size': '16px', 'background-color': 'blue', 'color': 'white'},\n",
        "    layout=widgets.Layout(margin='10px 0')\n",
        ")\n",
        "\n",
        "# Create a text widget for displaying the result\n",
        "result_text = widgets.HTML(\n",
        "    value='',\n",
        "    layout=widgets.Layout(margin='10px 0')\n",
        ")\n",
        "\n",
        "# Function to classify the input sentence and update the image and text\n",
        "def classify_sentence(_):\n",
        "    input_sentence = text_input.value.strip()\n",
        "\n",
        "    if input_sentence:\n",
        "        # Vectorize the input sentence using the first vectorizer\n",
        "        input_sentence_tfidf1 = tfidf_vectorizer1.transform([input_sentence])\n",
        "\n",
        "        # Make a prediction with the first SVM\n",
        "        prediction1 = svm_hate_non_hate.predict(input_sentence_tfidf1)\n",
        "\n",
        "        # Check if the first SVM predicts \"Hate\"\n",
        "        if prediction1[0][0] == 1:\n",
        "            # If \"Hate\" is predicted, proceed with the second classification\n",
        "            # Vectorize the input sentence using the second vectorizer\n",
        "            input_sentence_tfidf2 = tfidf_vectorizer2.transform([input_sentence])\n",
        "\n",
        "            # Make a prediction with the second SVM\n",
        "            prediction2 = svm_other_religion_ethnicity.predict(input_sentence_tfidf2)\n",
        "\n",
        "            # Check if the second SVM predicts \"Other\" or \"Religion_Ethnicity\"\n",
        "            if prediction2[0][0] == 1:\n",
        "                result_text.value = \"The sentence is classified as 'Hate Other'.\"\n",
        "            else:\n",
        "                # If \"Religion_Ethnicity\" is predicted, proceed with the third classification\n",
        "                # Vectorize the input sentence using the third vectorizer\n",
        "                input_sentence_tfidf3 = tfidf_vectorizer3.transform([input_sentence])\n",
        "\n",
        "                # Make a prediction with the third SVM\n",
        "                prediction3 = svm_religion_ethnicity.predict(input_sentence_tfidf3)\n",
        "\n",
        "                # Check if the third SVM predicts \"Religion\" or \"Ethnicity\"\n",
        "                if prediction3[0][0] == 1:\n",
        "                    result_text.value = \"The sentence is classified as 'Hate Religion'.\"\n",
        "                else:\n",
        "                    result_text.value = \"The sentence is classified as 'Hate Ethnicity'.\"\n",
        "        else:\n",
        "            # If \"Non-Hate\" is predicted by the first SVM, you can handle it accordingly\n",
        "            result_text.value = \"The sentence is classified as Non-Hate speech.\"\n",
        "    else:\n",
        "        result_text.value = \"Please enter a sentence for classification.\"\n",
        "\n",
        "# Define the text input widget\n",
        "text_input = widgets.Textarea(\n",
        "    placeholder='Enter text for classification...',\n",
        "    layout=widgets.Layout(width='400px', height='200px')\n",
        ")\n",
        "\n",
        "# Define the classify_button click event\n",
        "classify_button.on_click(classify_sentence)\n",
        "\n",
        "# Display the widgets\n",
        "display(image_html, text_input, classify_button, result_text)\n"
      ]
    },
    {
      "cell_type": "code",
      "execution_count": null,
      "metadata": {
        "id": "MH4UTTXLT0d0"
      },
      "outputs": [],
      "source": [
        "from ipywidgets import widgets\n",
        "from IPython.display import display, HTML\n",
        "from sklearn.feature_extraction.text import TfidfVectorizer\n",
        "from joblib import load\n",
        "\n",
        "# Load the pre-trained TF-IDF vectorizers and SVM models\n",
        "tfidf_vectorizer1 = load('tfidf_vectorizer.joblib')  # Load the first vectorizer\n",
        "svm_hate_non_hate = load('svm_hate_non_hate_model.joblib')  # First SVM\n",
        "tfidf_vectorizer2 = load('tfidf_vectorizer_svm2.joblib')  # Load the second vectorizer\n",
        "svm_other_religion_ethnicity = load('svm_other_religion_ethnicity_model.joblib')  # Second SVM\n",
        "tfidf_vectorizer3 = load('tfidf_vectorizer_svm3.joblib')  # Load the third vectorizer\n",
        "svm_religion_ethnicity = load('svm_religion_ethnicity_model.joblib')  # Third SVM\n",
        "\n",
        "\n",
        "\n",
        "# Function to classify the input sentence\n",
        "def classify_sentence():\n",
        "\n",
        "    text = input(\"text\")\n",
        "    input_sentence = text.strip()\n",
        "    value = ''\n",
        "\n",
        "    if input_sentence:\n",
        "        # Vectorize the input sentence using the first vectorizer\n",
        "        input_sentence_tfidf1 = tfidf_vectorizer1.transform([input_sentence])\n",
        "\n",
        "        # Make a prediction with the first SVM\n",
        "        prediction1 = svm_hate_non_hate.predict(input_sentence_tfidf1)\n",
        "\n",
        "        # Check if the first SVM predicts \"Hate\"\n",
        "        if prediction1[0][0] == 1:\n",
        "            # If \"Hate\" is predicted, proceed with the second classification\n",
        "            # Vectorize the input sentence using the second vectorizer\n",
        "            input_sentence_tfidf2 = tfidf_vectorizer2.transform([input_sentence])\n",
        "\n",
        "            # Make a prediction with the second SVM\n",
        "            prediction2 = svm_other_religion_ethnicity.predict(input_sentence_tfidf2)\n",
        "\n",
        "            # Check if the second SVM predicts \"Other\" or \"Religion_Ethnicity\"\n",
        "            if prediction2[0][0] == 1:\n",
        "                value = \"The sentence is classified as 'Hate Other'.\"\n",
        "            else:\n",
        "                # If \"Religion_Ethnicity\" is predicted, proceed with the third classification\n",
        "                # Vectorize the input sentence using the third vectorizer\n",
        "                input_sentence_tfidf3 = tfidf_vectorizer3.transform([input_sentence])\n",
        "\n",
        "                # Make a prediction with the third SVM\n",
        "                prediction3 = svm_religion_ethnicity.predict(input_sentence_tfidf3)\n",
        "\n",
        "                # Check if the third SVM predicts \"Religion\" or \"Ethnicity\"\n",
        "                if prediction3[0][0] == 1:\n",
        "                    value = \"The sentence is classified as 'Hate Religion'.\"\n",
        "                else:\n",
        "                    value = \"The sentence is classified as 'Hate Ethnicity'.\"\n",
        "        else:\n",
        "            # If \"Non-Hate\" is predicted by the first SVM, you can handle it accordingly\n",
        "            value = \"The sentence is classified as Non-Hate speech.\"\n",
        "    else:\n",
        "        value = \"Please enter a sentence for classification.\"\n",
        "\n",
        "    return valuem\n",
        "\n"
      ]
    },
    {
      "cell_type": "code",
      "execution_count": null,
      "metadata": {
        "id": "ArJ1-nTccqEp"
      },
      "outputs": [],
      "source": [
        "classify_sentence()"
      ]
    },
    {
      "cell_type": "markdown",
      "source": [
        "5/11/2023\n",
        "\n",
        "The code has been updated to splits the input sentence into smaller sentences using punctuation as the delimiter and then classifies each smaller sentence separately. It prints the classification for each smaller sentence."
      ],
      "metadata": {
        "id": "GzUPhSoyNIUM"
      }
    },
    {
      "cell_type": "code",
      "source": [
        "from sklearn.feature_extraction.text import TfidfVectorizer\n",
        "from joblib import load\n",
        "\n",
        "# Load the pre-trained TF-IDF vectorizers and SVM models\n",
        "tfidf_vectorizer1 = load('tfidf_vectorizer.joblib')  # Load the first vectorizer\n",
        "svm_hate_non_hate = load('svm_hate_non_hate_model.joblib')  # First SVM\n",
        "tfidf_vectorizer2 = load('tfidf_vectorizer_svm2.joblib')  # Load the second vectorizer\n",
        "svm_other_religion_ethnicity = load('svm_other_religion_ethnicity_model.joblib')  # Second SVM\n",
        "tfidf_vectorizer3 = load('tfidf_vectorizer_svm3.joblib')  # Load the third vectorizer\n",
        "svm_religion_ethnicity = load('svm_religion_ethnicity_model.joblib')  # Third SVM\n",
        "\n",
        "# Define the input sentence\n",
        "input_sentence = \"such senseless act could only make sense to fools like this fulani_govt thinking killing would even toughen ipobs esn biafranation agitation and would degenerate to a s.  the federal govt think that mass murder of ipob is the way to handle the deteriorating security situation in the southeast this is totally preposterous govt actually wants this country to implode they gave no pretences over their intentions. yall dont want to see change when you are ready you will start by stoning those your sheikhs and imams they are using to enslave your brains then you will not sorosoke ðÿ\"\n",
        "# Split the input sentence into smaller sentences using punctuation as the delimiter\n",
        "sentences = [sentence.strip() for sentence in input_sentence.split('.')]\n",
        "\n",
        "# Iterate through the smaller sentences\n",
        "for sentence in sentences:\n",
        "    # Vectorize the sentence using the first vectorizer\n",
        "    sentence_tfidf1 = tfidf_vectorizer1.transform([sentence])\n",
        "\n",
        "    # Make a prediction with the first SVM\n",
        "    prediction1 = svm_hate_non_hate.predict(sentence_tfidf1)\n",
        "\n",
        "    # Check if the first SVM predicts \"Hate\"\n",
        "    if prediction1[0][0] == 1:\n",
        "        # If \"Hate\" is predicted, proceed with the second classification\n",
        "        # Vectorize the sentence using the second vectorizer\n",
        "        sentence_tfidf2 = tfidf_vectorizer2.transform([sentence])\n",
        "\n",
        "        # Make a prediction with the second SVM\n",
        "        prediction2 = svm_other_religion_ethnicity.predict(sentence_tfidf2)\n",
        "\n",
        "        # Check if the second SVM predicts \"Other\" or \"Religion_Ethnicity\"\n",
        "        if prediction2[0][0] == 1:\n",
        "            # If \"Other\" is predicted, you can perform further actions or classifications here\n",
        "            print(f\"The sentence '{sentence}' is classified as 'Hate Other'.\")\n",
        "        else:\n",
        "            # If \"Religion_Ethnicity\" is predicted, proceed with the third classification\n",
        "            # Vectorize the sentence using the third vectorizer\n",
        "            sentence_tfidf3 = tfidf_vectorizer3.transform([sentence])\n",
        "\n",
        "            # Make a prediction with the third SVM\n",
        "            prediction3 = svm_religion_ethnicity.predict(sentence_tfidf3)\n",
        "\n",
        "            # Check if the third SVM predicts \"Religion\" or \"Ethnicity\"\n",
        "            if prediction3[0][0] == 1:\n",
        "                print(f\"The sentence '{sentence}' is classified as 'Hate Religion'.\")\n",
        "            else:\n",
        "                print(f\"The sentence '{sentence}' is classified as 'Hate Ethnicity'.\")\n",
        "    else:\n",
        "        # If \"Non-Hate\" is predicted by the first SVM, you can handle it accordingly\n",
        "        print(f\"The sentence '{sentence}' is classified as Non-Hate speech.\")\n"
      ],
      "metadata": {
        "id": "668qc-TFLbBG"
      },
      "execution_count": null,
      "outputs": []
    }
  ],
  "metadata": {
    "colab": {
      "provenance": [],
      "gpuType": "T4",
      "include_colab_link": true
    },
    "kernelspec": {
      "display_name": "Python 3",
      "name": "python3"
    },
    "language_info": {
      "name": "python"
    },
    "widgets": {
      "application/vnd.jupyter.widget-state+json": {
        "60da5ea7575f45dd86665674c9f26741": {
          "model_module": "@jupyter-widgets/controls",
          "model_name": "TextareaModel",
          "model_module_version": "1.5.0",
          "state": {
            "_dom_classes": [],
            "_model_module": "@jupyter-widgets/controls",
            "_model_module_version": "1.5.0",
            "_model_name": "TextareaModel",
            "_view_count": null,
            "_view_module": "@jupyter-widgets/controls",
            "_view_module_version": "1.5.0",
            "_view_name": "TextareaView",
            "continuous_update": true,
            "description": "",
            "description_tooltip": null,
            "disabled": false,
            "layout": "IPY_MODEL_4177bd63884c4d75963d72ada6614cc7",
            "placeholder": "Enter text for classification...",
            "rows": null,
            "style": "IPY_MODEL_667cc5a2bbb34345ac0529f53b2b3a47",
            "value": ""
          }
        },
        "4177bd63884c4d75963d72ada6614cc7": {
          "model_module": "@jupyter-widgets/base",
          "model_name": "LayoutModel",
          "model_module_version": "1.2.0",
          "state": {
            "_model_module": "@jupyter-widgets/base",
            "_model_module_version": "1.2.0",
            "_model_name": "LayoutModel",
            "_view_count": null,
            "_view_module": "@jupyter-widgets/base",
            "_view_module_version": "1.2.0",
            "_view_name": "LayoutView",
            "align_content": null,
            "align_items": null,
            "align_self": null,
            "border": null,
            "bottom": null,
            "display": null,
            "flex": null,
            "flex_flow": null,
            "grid_area": null,
            "grid_auto_columns": null,
            "grid_auto_flow": null,
            "grid_auto_rows": null,
            "grid_column": null,
            "grid_gap": null,
            "grid_row": null,
            "grid_template_areas": null,
            "grid_template_columns": null,
            "grid_template_rows": null,
            "height": "200px",
            "justify_content": null,
            "justify_items": null,
            "left": null,
            "margin": null,
            "max_height": null,
            "max_width": null,
            "min_height": null,
            "min_width": null,
            "object_fit": null,
            "object_position": null,
            "order": null,
            "overflow": null,
            "overflow_x": null,
            "overflow_y": null,
            "padding": null,
            "right": null,
            "top": null,
            "visibility": null,
            "width": "400px"
          }
        },
        "667cc5a2bbb34345ac0529f53b2b3a47": {
          "model_module": "@jupyter-widgets/controls",
          "model_name": "DescriptionStyleModel",
          "model_module_version": "1.5.0",
          "state": {
            "_model_module": "@jupyter-widgets/controls",
            "_model_module_version": "1.5.0",
            "_model_name": "DescriptionStyleModel",
            "_view_count": null,
            "_view_module": "@jupyter-widgets/base",
            "_view_module_version": "1.2.0",
            "_view_name": "StyleView",
            "description_width": ""
          }
        },
        "c359d6986c894c018c3b377ed042c856": {
          "model_module": "@jupyter-widgets/controls",
          "model_name": "ButtonModel",
          "model_module_version": "1.5.0",
          "state": {
            "_dom_classes": [],
            "_model_module": "@jupyter-widgets/controls",
            "_model_module_version": "1.5.0",
            "_model_name": "ButtonModel",
            "_view_count": null,
            "_view_module": "@jupyter-widgets/controls",
            "_view_module_version": "1.5.0",
            "_view_name": "ButtonView",
            "button_style": "",
            "description": "Classify",
            "disabled": false,
            "icon": "",
            "layout": "IPY_MODEL_6c80e3d521794683906b6c7e19f1abf4",
            "style": "IPY_MODEL_a8d4ecb244e8493daa1b601f05c17244",
            "tooltip": ""
          }
        },
        "6c80e3d521794683906b6c7e19f1abf4": {
          "model_module": "@jupyter-widgets/base",
          "model_name": "LayoutModel",
          "model_module_version": "1.2.0",
          "state": {
            "_model_module": "@jupyter-widgets/base",
            "_model_module_version": "1.2.0",
            "_model_name": "LayoutModel",
            "_view_count": null,
            "_view_module": "@jupyter-widgets/base",
            "_view_module_version": "1.2.0",
            "_view_name": "LayoutView",
            "align_content": null,
            "align_items": null,
            "align_self": null,
            "border": null,
            "bottom": null,
            "display": null,
            "flex": null,
            "flex_flow": null,
            "grid_area": null,
            "grid_auto_columns": null,
            "grid_auto_flow": null,
            "grid_auto_rows": null,
            "grid_column": null,
            "grid_gap": null,
            "grid_row": null,
            "grid_template_areas": null,
            "grid_template_columns": null,
            "grid_template_rows": null,
            "height": null,
            "justify_content": null,
            "justify_items": null,
            "left": null,
            "margin": null,
            "max_height": null,
            "max_width": null,
            "min_height": null,
            "min_width": null,
            "object_fit": null,
            "object_position": null,
            "order": null,
            "overflow": null,
            "overflow_x": null,
            "overflow_y": null,
            "padding": null,
            "right": null,
            "top": null,
            "visibility": null,
            "width": null
          }
        },
        "a8d4ecb244e8493daa1b601f05c17244": {
          "model_module": "@jupyter-widgets/controls",
          "model_name": "ButtonStyleModel",
          "model_module_version": "1.5.0",
          "state": {
            "_model_module": "@jupyter-widgets/controls",
            "_model_module_version": "1.5.0",
            "_model_name": "ButtonStyleModel",
            "_view_count": null,
            "_view_module": "@jupyter-widgets/base",
            "_view_module_version": "1.2.0",
            "_view_name": "StyleView",
            "button_color": null,
            "font_weight": ""
          }
        },
        "ef127a5529d24284887ea9888152c6a6": {
          "model_module": "@jupyter-widgets/controls",
          "model_name": "HTMLModel",
          "model_module_version": "1.5.0",
          "state": {
            "_dom_classes": [],
            "_model_module": "@jupyter-widgets/controls",
            "_model_module_version": "1.5.0",
            "_model_name": "HTMLModel",
            "_view_count": null,
            "_view_module": "@jupyter-widgets/controls",
            "_view_module_version": "1.5.0",
            "_view_name": "HTMLView",
            "description": "",
            "description_tooltip": null,
            "layout": "IPY_MODEL_507d26df3efd47f4bb3a376da97365d3",
            "placeholder": "​",
            "style": "IPY_MODEL_345615672ce54c498ce5be22f38f3861",
            "value": ""
          }
        },
        "507d26df3efd47f4bb3a376da97365d3": {
          "model_module": "@jupyter-widgets/base",
          "model_name": "LayoutModel",
          "model_module_version": "1.2.0",
          "state": {
            "_model_module": "@jupyter-widgets/base",
            "_model_module_version": "1.2.0",
            "_model_name": "LayoutModel",
            "_view_count": null,
            "_view_module": "@jupyter-widgets/base",
            "_view_module_version": "1.2.0",
            "_view_name": "LayoutView",
            "align_content": null,
            "align_items": null,
            "align_self": null,
            "border": null,
            "bottom": null,
            "display": null,
            "flex": null,
            "flex_flow": null,
            "grid_area": null,
            "grid_auto_columns": null,
            "grid_auto_flow": null,
            "grid_auto_rows": null,
            "grid_column": null,
            "grid_gap": null,
            "grid_row": null,
            "grid_template_areas": null,
            "grid_template_columns": null,
            "grid_template_rows": null,
            "height": null,
            "justify_content": null,
            "justify_items": null,
            "left": null,
            "margin": null,
            "max_height": null,
            "max_width": null,
            "min_height": null,
            "min_width": null,
            "object_fit": null,
            "object_position": null,
            "order": null,
            "overflow": null,
            "overflow_x": null,
            "overflow_y": null,
            "padding": null,
            "right": null,
            "top": null,
            "visibility": null,
            "width": null
          }
        },
        "345615672ce54c498ce5be22f38f3861": {
          "model_module": "@jupyter-widgets/controls",
          "model_name": "DescriptionStyleModel",
          "model_module_version": "1.5.0",
          "state": {
            "_model_module": "@jupyter-widgets/controls",
            "_model_module_version": "1.5.0",
            "_model_name": "DescriptionStyleModel",
            "_view_count": null,
            "_view_module": "@jupyter-widgets/base",
            "_view_module_version": "1.2.0",
            "_view_name": "StyleView",
            "description_width": ""
          }
        },
        "1229a07f6a484d9387186dcc189343c4": {
          "model_module": "@jupyter-widgets/controls",
          "model_name": "HTMLModel",
          "model_module_version": "1.5.0",
          "state": {
            "_dom_classes": [],
            "_model_module": "@jupyter-widgets/controls",
            "_model_module_version": "1.5.0",
            "_model_name": "HTMLModel",
            "_view_count": null,
            "_view_module": "@jupyter-widgets/controls",
            "_view_module_version": "1.5.0",
            "_view_name": "HTMLView",
            "description": "",
            "description_tooltip": null,
            "layout": "IPY_MODEL_c20f83fa44544a278d992665ac215359",
            "placeholder": "​",
            "style": "IPY_MODEL_c9d6034ffcb2412bb4b53b2949bbd149",
            "value": "<img src=\"https://miro.medium.com/v2/resize:fit:720/format:webp/0*O_hRMkov1Gcy4msS.png\" alt=\"Placeholder Image\" width=\"300px\">"
          }
        },
        "c20f83fa44544a278d992665ac215359": {
          "model_module": "@jupyter-widgets/base",
          "model_name": "LayoutModel",
          "model_module_version": "1.2.0",
          "state": {
            "_model_module": "@jupyter-widgets/base",
            "_model_module_version": "1.2.0",
            "_model_name": "LayoutModel",
            "_view_count": null,
            "_view_module": "@jupyter-widgets/base",
            "_view_module_version": "1.2.0",
            "_view_name": "LayoutView",
            "align_content": null,
            "align_items": null,
            "align_self": null,
            "border": null,
            "bottom": null,
            "display": null,
            "flex": null,
            "flex_flow": null,
            "grid_area": null,
            "grid_auto_columns": null,
            "grid_auto_flow": null,
            "grid_auto_rows": null,
            "grid_column": null,
            "grid_gap": null,
            "grid_row": null,
            "grid_template_areas": null,
            "grid_template_columns": null,
            "grid_template_rows": null,
            "height": null,
            "justify_content": null,
            "justify_items": null,
            "left": null,
            "margin": "10px 0",
            "max_height": null,
            "max_width": null,
            "min_height": null,
            "min_width": null,
            "object_fit": null,
            "object_position": null,
            "order": null,
            "overflow": null,
            "overflow_x": null,
            "overflow_y": null,
            "padding": null,
            "right": null,
            "top": null,
            "visibility": null,
            "width": null
          }
        },
        "c9d6034ffcb2412bb4b53b2949bbd149": {
          "model_module": "@jupyter-widgets/controls",
          "model_name": "DescriptionStyleModel",
          "model_module_version": "1.5.0",
          "state": {
            "_model_module": "@jupyter-widgets/controls",
            "_model_module_version": "1.5.0",
            "_model_name": "DescriptionStyleModel",
            "_view_count": null,
            "_view_module": "@jupyter-widgets/base",
            "_view_module_version": "1.2.0",
            "_view_name": "StyleView",
            "description_width": ""
          }
        },
        "dda4c17db85545828afcbb7b4cb07022": {
          "model_module": "@jupyter-widgets/controls",
          "model_name": "TextareaModel",
          "model_module_version": "1.5.0",
          "state": {
            "_dom_classes": [],
            "_model_module": "@jupyter-widgets/controls",
            "_model_module_version": "1.5.0",
            "_model_name": "TextareaModel",
            "_view_count": null,
            "_view_module": "@jupyter-widgets/controls",
            "_view_module_version": "1.5.0",
            "_view_name": "TextareaView",
            "continuous_update": true,
            "description": "",
            "description_tooltip": null,
            "disabled": false,
            "layout": "IPY_MODEL_259b670c8cbe487fb26f9dd2476c3c8a",
            "placeholder": "Enter text for classification...",
            "rows": null,
            "style": "IPY_MODEL_8763e9c7e46c4673bed1418760b8b2a4",
            "value": ""
          }
        },
        "259b670c8cbe487fb26f9dd2476c3c8a": {
          "model_module": "@jupyter-widgets/base",
          "model_name": "LayoutModel",
          "model_module_version": "1.2.0",
          "state": {
            "_model_module": "@jupyter-widgets/base",
            "_model_module_version": "1.2.0",
            "_model_name": "LayoutModel",
            "_view_count": null,
            "_view_module": "@jupyter-widgets/base",
            "_view_module_version": "1.2.0",
            "_view_name": "LayoutView",
            "align_content": null,
            "align_items": null,
            "align_self": null,
            "border": null,
            "bottom": null,
            "display": null,
            "flex": null,
            "flex_flow": null,
            "grid_area": null,
            "grid_auto_columns": null,
            "grid_auto_flow": null,
            "grid_auto_rows": null,
            "grid_column": null,
            "grid_gap": null,
            "grid_row": null,
            "grid_template_areas": null,
            "grid_template_columns": null,
            "grid_template_rows": null,
            "height": "200px",
            "justify_content": null,
            "justify_items": null,
            "left": null,
            "margin": null,
            "max_height": null,
            "max_width": null,
            "min_height": null,
            "min_width": null,
            "object_fit": null,
            "object_position": null,
            "order": null,
            "overflow": null,
            "overflow_x": null,
            "overflow_y": null,
            "padding": null,
            "right": null,
            "top": null,
            "visibility": null,
            "width": "400px"
          }
        },
        "8763e9c7e46c4673bed1418760b8b2a4": {
          "model_module": "@jupyter-widgets/controls",
          "model_name": "DescriptionStyleModel",
          "model_module_version": "1.5.0",
          "state": {
            "_model_module": "@jupyter-widgets/controls",
            "_model_module_version": "1.5.0",
            "_model_name": "DescriptionStyleModel",
            "_view_count": null,
            "_view_module": "@jupyter-widgets/base",
            "_view_module_version": "1.2.0",
            "_view_name": "StyleView",
            "description_width": ""
          }
        },
        "f766cb7b729c473fb7a49c097a0ec959": {
          "model_module": "@jupyter-widgets/controls",
          "model_name": "ButtonModel",
          "model_module_version": "1.5.0",
          "state": {
            "_dom_classes": [],
            "_model_module": "@jupyter-widgets/controls",
            "_model_module_version": "1.5.0",
            "_model_name": "ButtonModel",
            "_view_count": null,
            "_view_module": "@jupyter-widgets/controls",
            "_view_module_version": "1.5.0",
            "_view_name": "ButtonView",
            "button_style": "",
            "description": "Classify",
            "disabled": false,
            "icon": "",
            "layout": "IPY_MODEL_0f4892cd5deb4abb9ad493d012c58495",
            "style": "IPY_MODEL_a264f77f840d484b8e305bfcd56daee3",
            "tooltip": ""
          }
        },
        "0f4892cd5deb4abb9ad493d012c58495": {
          "model_module": "@jupyter-widgets/base",
          "model_name": "LayoutModel",
          "model_module_version": "1.2.0",
          "state": {
            "_model_module": "@jupyter-widgets/base",
            "_model_module_version": "1.2.0",
            "_model_name": "LayoutModel",
            "_view_count": null,
            "_view_module": "@jupyter-widgets/base",
            "_view_module_version": "1.2.0",
            "_view_name": "LayoutView",
            "align_content": null,
            "align_items": null,
            "align_self": null,
            "border": null,
            "bottom": null,
            "display": null,
            "flex": null,
            "flex_flow": null,
            "grid_area": null,
            "grid_auto_columns": null,
            "grid_auto_flow": null,
            "grid_auto_rows": null,
            "grid_column": null,
            "grid_gap": null,
            "grid_row": null,
            "grid_template_areas": null,
            "grid_template_columns": null,
            "grid_template_rows": null,
            "height": null,
            "justify_content": null,
            "justify_items": null,
            "left": null,
            "margin": "10px 0",
            "max_height": null,
            "max_width": null,
            "min_height": null,
            "min_width": null,
            "object_fit": null,
            "object_position": null,
            "order": null,
            "overflow": null,
            "overflow_x": null,
            "overflow_y": null,
            "padding": null,
            "right": null,
            "top": null,
            "visibility": null,
            "width": null
          }
        },
        "a264f77f840d484b8e305bfcd56daee3": {
          "model_module": "@jupyter-widgets/controls",
          "model_name": "ButtonStyleModel",
          "model_module_version": "1.5.0",
          "state": {
            "_model_module": "@jupyter-widgets/controls",
            "_model_module_version": "1.5.0",
            "_model_name": "ButtonStyleModel",
            "_view_count": null,
            "_view_module": "@jupyter-widgets/base",
            "_view_module_version": "1.2.0",
            "_view_name": "StyleView",
            "button_color": null,
            "font_weight": ""
          }
        },
        "f30b7eef937e490eb4e7c035f58c4e63": {
          "model_module": "@jupyter-widgets/controls",
          "model_name": "HTMLModel",
          "model_module_version": "1.5.0",
          "state": {
            "_dom_classes": [],
            "_model_module": "@jupyter-widgets/controls",
            "_model_module_version": "1.5.0",
            "_model_name": "HTMLModel",
            "_view_count": null,
            "_view_module": "@jupyter-widgets/controls",
            "_view_module_version": "1.5.0",
            "_view_name": "HTMLView",
            "description": "",
            "description_tooltip": null,
            "layout": "IPY_MODEL_fc7b312868064ec7846cc7972b3a4e4c",
            "placeholder": "​",
            "style": "IPY_MODEL_e05ae711be2e4d3fac5e5d9720e156e8",
            "value": ""
          }
        },
        "fc7b312868064ec7846cc7972b3a4e4c": {
          "model_module": "@jupyter-widgets/base",
          "model_name": "LayoutModel",
          "model_module_version": "1.2.0",
          "state": {
            "_model_module": "@jupyter-widgets/base",
            "_model_module_version": "1.2.0",
            "_model_name": "LayoutModel",
            "_view_count": null,
            "_view_module": "@jupyter-widgets/base",
            "_view_module_version": "1.2.0",
            "_view_name": "LayoutView",
            "align_content": null,
            "align_items": null,
            "align_self": null,
            "border": null,
            "bottom": null,
            "display": null,
            "flex": null,
            "flex_flow": null,
            "grid_area": null,
            "grid_auto_columns": null,
            "grid_auto_flow": null,
            "grid_auto_rows": null,
            "grid_column": null,
            "grid_gap": null,
            "grid_row": null,
            "grid_template_areas": null,
            "grid_template_columns": null,
            "grid_template_rows": null,
            "height": null,
            "justify_content": null,
            "justify_items": null,
            "left": null,
            "margin": "10px 0",
            "max_height": null,
            "max_width": null,
            "min_height": null,
            "min_width": null,
            "object_fit": null,
            "object_position": null,
            "order": null,
            "overflow": null,
            "overflow_x": null,
            "overflow_y": null,
            "padding": null,
            "right": null,
            "top": null,
            "visibility": null,
            "width": null
          }
        },
        "e05ae711be2e4d3fac5e5d9720e156e8": {
          "model_module": "@jupyter-widgets/controls",
          "model_name": "DescriptionStyleModel",
          "model_module_version": "1.5.0",
          "state": {
            "_model_module": "@jupyter-widgets/controls",
            "_model_module_version": "1.5.0",
            "_model_name": "DescriptionStyleModel",
            "_view_count": null,
            "_view_module": "@jupyter-widgets/base",
            "_view_module_version": "1.2.0",
            "_view_name": "StyleView",
            "description_width": ""
          }
        }
      }
    },
    "accelerator": "GPU"
  },
  "nbformat": 4,
  "nbformat_minor": 0
}
