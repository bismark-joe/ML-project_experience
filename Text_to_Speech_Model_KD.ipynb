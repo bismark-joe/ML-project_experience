{
  "cells": [
    {
      "cell_type": "markdown",
      "metadata": {
        "id": "view-in-github",
        "colab_type": "text"
      },
      "source": [
        "<a href=\"https://colab.research.google.com/github/bismark-joe/project_experience/blob/master/Text_to_Speech_Model_KD.ipynb\" target=\"_parent\"><img src=\"https://colab.research.google.com/assets/colab-badge.svg\" alt=\"Open In Colab\"/></a>"
      ]
    },
    {
      "cell_type": "markdown",
      "source": [
        "Code by Adebisi Joe."
      ],
      "metadata": {
        "id": "9NPC583Fbjp9"
      }
    },
    {
      "cell_type": "markdown",
      "metadata": {
        "id": "8p8N9-OUj3ZW"
      },
      "source": [
        "# Libraries and Data"
      ]
    },
    {
      "cell_type": "code",
      "execution_count": null,
      "metadata": {
        "id": "nizEetE1imtm",
        "colab": {
          "base_uri": "https://localhost:8080/"
        },
        "outputId": "d5076a00-968e-4861-aaca-60dfb8698b64"
      },
      "outputs": [
        {
          "output_type": "stream",
          "name": "stdout",
          "text": [
            "Looking in indexes: https://pypi.org/simple, https://us-python.pkg.dev/colab-wheels/public/simple/\n",
            "Requirement already satisfied: pyttsx3 in /usr/local/lib/python3.8/dist-packages (2.6)\n",
            "Looking in indexes: https://pypi.org/simple, https://us-python.pkg.dev/colab-wheels/public/simple/\n",
            "Collecting python-docx\n",
            "  Downloading python-docx-0.8.11.tar.gz (5.6 MB)\n",
            "\u001b[2K     \u001b[90m━━━━━━━━━━━━━━━━━━━━━━━━━━━━━━━━━━━━━━━━\u001b[0m \u001b[32m5.6/5.6 MB\u001b[0m \u001b[31m41.4 MB/s\u001b[0m eta \u001b[36m0:00:00\u001b[0m\n",
            "\u001b[?25h  Preparing metadata (setup.py) ... \u001b[?25l\u001b[?25hdone\n",
            "Requirement already satisfied: lxml>=2.3.2 in /usr/local/lib/python3.8/dist-packages (from python-docx) (4.9.2)\n",
            "Building wheels for collected packages: python-docx\n",
            "  Building wheel for python-docx (setup.py) ... \u001b[?25l\u001b[?25hdone\n",
            "  Created wheel for python-docx: filename=python_docx-0.8.11-py3-none-any.whl size=184505 sha256=4e591d401bfd51fa30694360ed5cea919e67245fe14ea15cc7cf9e80e8aa262c\n",
            "  Stored in directory: /root/.cache/pip/wheels/32/b8/b2/c4c2b95765e615fe139b0b17b5ea7c0e1b6519b0a9ec8fb34d\n",
            "Successfully built python-docx\n",
            "Installing collected packages: python-docx\n",
            "Successfully installed python-docx-0.8.11\n"
          ]
        }
      ],
      "source": [
        "\n",
        "!pip install pyttsx3\n",
        "!pip install python-docx\n"
      ]
    },
    {
      "cell_type": "code",
      "source": [
        "import pyttsx3 #install pyttsx3\n",
        "import docx #install python-docx\n",
        "from pathlib import Path\n",
        "from google.colab import drive"
      ],
      "metadata": {
        "id": "QE2Y2JiOGcLi"
      },
      "execution_count": null,
      "outputs": []
    },
    {
      "cell_type": "markdown",
      "source": [
        "#Get File From Drive"
      ],
      "metadata": {
        "id": "cDVIbl2Bre5I"
      }
    },
    {
      "cell_type": "code",
      "source": [
        "drive.mount('/content/gdrive')\n",
        "txt_file = 'gdrive/My Drive/name.txt'"
      ],
      "metadata": {
        "colab": {
          "base_uri": "https://localhost:8080/"
        },
        "id": "ZulrybcTrztc",
        "outputId": "fa3c88f8-5691-43b3-b685-85c2d8df9b99"
      },
      "execution_count": null,
      "outputs": [
        {
          "output_type": "stream",
          "name": "stdout",
          "text": [
            "Mounted at /content/gdrive\n"
          ]
        }
      ]
    },
    {
      "cell_type": "code",
      "source": [
        "txt_to_read = open(txt_file, 'r')\n",
        "txt_to_read = txt_to_read.read()\n",
        "print (txt_to_read)"
      ],
      "metadata": {
        "colab": {
          "base_uri": "https://localhost:8080/"
        },
        "id": "4WJ_aqvKzCMf",
        "outputId": "b22b7b77-e540-43d0-eb75-0a94f71a8712"
      },
      "execution_count": null,
      "outputs": [
        {
          "output_type": "stream",
          "name": "stdout",
          "text": [
            "You can always call me Joe. Many people prefer to call me that name because it is simple and easy.\n"
          ]
        }
      ]
    },
    {
      "cell_type": "code",
      "source": [
        "import pyttsx3\n",
        "engine = pyttsx3.init()\n",
        "engine.say(\"I will speak this text\")\n",
        "engine.runAndWait()"
      ],
      "metadata": {
        "colab": {
          "base_uri": "https://localhost:8080/",
          "height": 450
        },
        "id": "PG78Sq_RukaZ",
        "outputId": "40c9a9d1-1d30-4bea-f7ac-a817a2c08098"
      },
      "execution_count": null,
      "outputs": [
        {
          "output_type": "error",
          "ename": "OSError",
          "evalue": "ignored",
          "traceback": [
            "\u001b[0;31m---------------------------------------------------------------------------\u001b[0m",
            "\u001b[0;31mKeyError\u001b[0m                                  Traceback (most recent call last)",
            "\u001b[0;32m/usr/local/lib/python3.8/dist-packages/pyttsx3/__init__.py\u001b[0m in \u001b[0;36minit\u001b[0;34m(driverName, debug)\u001b[0m\n\u001b[1;32m     43\u001b[0m     \u001b[0;32mtry\u001b[0m\u001b[0;34m:\u001b[0m\u001b[0;34m\u001b[0m\u001b[0;34m\u001b[0m\u001b[0m\n\u001b[0;32m---> 44\u001b[0;31m         \u001b[0meng\u001b[0m \u001b[0;34m=\u001b[0m \u001b[0m_activeEngines\u001b[0m\u001b[0;34m[\u001b[0m\u001b[0mdriverName\u001b[0m\u001b[0;34m]\u001b[0m\u001b[0;34m\u001b[0m\u001b[0;34m\u001b[0m\u001b[0m\n\u001b[0m\u001b[1;32m     45\u001b[0m     \u001b[0;32mexcept\u001b[0m \u001b[0mKeyError\u001b[0m\u001b[0;34m:\u001b[0m\u001b[0;34m\u001b[0m\u001b[0;34m\u001b[0m\u001b[0m\n",
            "\u001b[0;32m/usr/lib/python3.8/weakref.py\u001b[0m in \u001b[0;36m__getitem__\u001b[0;34m(self, key)\u001b[0m\n\u001b[1;32m    130\u001b[0m             \u001b[0mself\u001b[0m\u001b[0;34m.\u001b[0m\u001b[0m_commit_removals\u001b[0m\u001b[0;34m(\u001b[0m\u001b[0;34m)\u001b[0m\u001b[0;34m\u001b[0m\u001b[0;34m\u001b[0m\u001b[0m\n\u001b[0;32m--> 131\u001b[0;31m         \u001b[0mo\u001b[0m \u001b[0;34m=\u001b[0m \u001b[0mself\u001b[0m\u001b[0;34m.\u001b[0m\u001b[0mdata\u001b[0m\u001b[0;34m[\u001b[0m\u001b[0mkey\u001b[0m\u001b[0;34m]\u001b[0m\u001b[0;34m(\u001b[0m\u001b[0;34m)\u001b[0m\u001b[0;34m\u001b[0m\u001b[0;34m\u001b[0m\u001b[0m\n\u001b[0m\u001b[1;32m    132\u001b[0m         \u001b[0;32mif\u001b[0m \u001b[0mo\u001b[0m \u001b[0;32mis\u001b[0m \u001b[0;32mNone\u001b[0m\u001b[0;34m:\u001b[0m\u001b[0;34m\u001b[0m\u001b[0;34m\u001b[0m\u001b[0m\n",
            "\u001b[0;31mKeyError\u001b[0m: None",
            "\nDuring handling of the above exception, another exception occurred:\n",
            "\u001b[0;31mOSError\u001b[0m                                   Traceback (most recent call last)",
            "\u001b[0;32m<ipython-input-24-dd44a913bd59>\u001b[0m in \u001b[0;36m<module>\u001b[0;34m\u001b[0m\n\u001b[1;32m      1\u001b[0m \u001b[0;32mimport\u001b[0m \u001b[0mpyttsx3\u001b[0m\u001b[0;34m\u001b[0m\u001b[0;34m\u001b[0m\u001b[0m\n\u001b[0;32m----> 2\u001b[0;31m \u001b[0mengine\u001b[0m \u001b[0;34m=\u001b[0m \u001b[0mpyttsx3\u001b[0m\u001b[0;34m.\u001b[0m\u001b[0minit\u001b[0m\u001b[0;34m(\u001b[0m\u001b[0;34m)\u001b[0m\u001b[0;34m\u001b[0m\u001b[0;34m\u001b[0m\u001b[0m\n\u001b[0m\u001b[1;32m      3\u001b[0m \u001b[0mengine\u001b[0m\u001b[0;34m.\u001b[0m\u001b[0msay\u001b[0m\u001b[0;34m(\u001b[0m\u001b[0;34m\"I will speak this text\"\u001b[0m\u001b[0;34m)\u001b[0m\u001b[0;34m\u001b[0m\u001b[0;34m\u001b[0m\u001b[0m\n\u001b[1;32m      4\u001b[0m \u001b[0mengine\u001b[0m\u001b[0;34m.\u001b[0m\u001b[0mrunAndWait\u001b[0m\u001b[0;34m(\u001b[0m\u001b[0;34m)\u001b[0m\u001b[0;34m\u001b[0m\u001b[0;34m\u001b[0m\u001b[0m\n",
            "\u001b[0;32m/usr/local/lib/python3.8/dist-packages/pyttsx3/__init__.py\u001b[0m in \u001b[0;36minit\u001b[0;34m(driverName, debug)\u001b[0m\n\u001b[1;32m     44\u001b[0m         \u001b[0meng\u001b[0m \u001b[0;34m=\u001b[0m \u001b[0m_activeEngines\u001b[0m\u001b[0;34m[\u001b[0m\u001b[0mdriverName\u001b[0m\u001b[0;34m]\u001b[0m\u001b[0;34m\u001b[0m\u001b[0;34m\u001b[0m\u001b[0m\n\u001b[1;32m     45\u001b[0m     \u001b[0;32mexcept\u001b[0m \u001b[0mKeyError\u001b[0m\u001b[0;34m:\u001b[0m\u001b[0;34m\u001b[0m\u001b[0;34m\u001b[0m\u001b[0m\n\u001b[0;32m---> 46\u001b[0;31m         \u001b[0meng\u001b[0m \u001b[0;34m=\u001b[0m \u001b[0mEngine\u001b[0m\u001b[0;34m(\u001b[0m\u001b[0mdriverName\u001b[0m\u001b[0;34m,\u001b[0m \u001b[0mdebug\u001b[0m\u001b[0;34m)\u001b[0m\u001b[0;34m\u001b[0m\u001b[0;34m\u001b[0m\u001b[0m\n\u001b[0m\u001b[1;32m     47\u001b[0m         \u001b[0m_activeEngines\u001b[0m\u001b[0;34m[\u001b[0m\u001b[0mdriverName\u001b[0m\u001b[0;34m]\u001b[0m \u001b[0;34m=\u001b[0m \u001b[0meng\u001b[0m\u001b[0;34m\u001b[0m\u001b[0;34m\u001b[0m\u001b[0m\n\u001b[1;32m     48\u001b[0m     \u001b[0;32mreturn\u001b[0m \u001b[0meng\u001b[0m\u001b[0;34m\u001b[0m\u001b[0;34m\u001b[0m\u001b[0m\n",
            "\u001b[0;32m/usr/local/lib/python3.8/dist-packages/pyttsx3/engine.py\u001b[0m in \u001b[0;36m__init__\u001b[0;34m(self, driverName, debug)\u001b[0m\n\u001b[1;32m     50\u001b[0m         \u001b[0;34m@\u001b[0m\u001b[0mtype\u001b[0m \u001b[0mdebug\u001b[0m\u001b[0;34m:\u001b[0m \u001b[0mbool\u001b[0m\u001b[0;34m\u001b[0m\u001b[0;34m\u001b[0m\u001b[0m\n\u001b[1;32m     51\u001b[0m         '''\n\u001b[0;32m---> 52\u001b[0;31m         \u001b[0mself\u001b[0m\u001b[0;34m.\u001b[0m\u001b[0mproxy\u001b[0m \u001b[0;34m=\u001b[0m \u001b[0mdriver\u001b[0m\u001b[0;34m.\u001b[0m\u001b[0mDriverProxy\u001b[0m\u001b[0;34m(\u001b[0m\u001b[0mweakref\u001b[0m\u001b[0;34m.\u001b[0m\u001b[0mproxy\u001b[0m\u001b[0;34m(\u001b[0m\u001b[0mself\u001b[0m\u001b[0;34m)\u001b[0m\u001b[0;34m,\u001b[0m \u001b[0mdriverName\u001b[0m\u001b[0;34m,\u001b[0m \u001b[0mdebug\u001b[0m\u001b[0;34m)\u001b[0m\u001b[0;34m\u001b[0m\u001b[0;34m\u001b[0m\u001b[0m\n\u001b[0m\u001b[1;32m     53\u001b[0m         \u001b[0;31m# initialize other vars\u001b[0m\u001b[0;34m\u001b[0m\u001b[0;34m\u001b[0m\u001b[0;34m\u001b[0m\u001b[0m\n\u001b[1;32m     54\u001b[0m         \u001b[0mself\u001b[0m\u001b[0;34m.\u001b[0m\u001b[0m_connects\u001b[0m \u001b[0;34m=\u001b[0m \u001b[0;34m{\u001b[0m\u001b[0;34m}\u001b[0m\u001b[0;34m\u001b[0m\u001b[0;34m\u001b[0m\u001b[0m\n",
            "\u001b[0;32m/usr/local/lib/python3.8/dist-packages/pyttsx3/driver.py\u001b[0m in \u001b[0;36m__init__\u001b[0;34m(self, engine, driverName, debug)\u001b[0m\n\u001b[1;32m     73\u001b[0m         \u001b[0;31m# import driver module\u001b[0m\u001b[0;34m\u001b[0m\u001b[0;34m\u001b[0m\u001b[0;34m\u001b[0m\u001b[0m\n\u001b[1;32m     74\u001b[0m         \u001b[0mname\u001b[0m \u001b[0;34m=\u001b[0m \u001b[0;34m'pyttsx3.drivers.%s'\u001b[0m \u001b[0;34m%\u001b[0m \u001b[0mdriverName\u001b[0m\u001b[0;34m\u001b[0m\u001b[0;34m\u001b[0m\u001b[0m\n\u001b[0;32m---> 75\u001b[0;31m         \u001b[0mself\u001b[0m\u001b[0;34m.\u001b[0m\u001b[0m_module\u001b[0m \u001b[0;34m=\u001b[0m \u001b[0mimportlib\u001b[0m\u001b[0;34m.\u001b[0m\u001b[0mimport_module\u001b[0m\u001b[0;34m(\u001b[0m\u001b[0mname\u001b[0m\u001b[0;34m)\u001b[0m\u001b[0;34m\u001b[0m\u001b[0;34m\u001b[0m\u001b[0m\n\u001b[0m\u001b[1;32m     76\u001b[0m         \u001b[0;31m# build driver instance\u001b[0m\u001b[0;34m\u001b[0m\u001b[0;34m\u001b[0m\u001b[0;34m\u001b[0m\u001b[0m\n\u001b[1;32m     77\u001b[0m         \u001b[0mself\u001b[0m\u001b[0;34m.\u001b[0m\u001b[0m_driver\u001b[0m \u001b[0;34m=\u001b[0m \u001b[0mself\u001b[0m\u001b[0;34m.\u001b[0m\u001b[0m_module\u001b[0m\u001b[0;34m.\u001b[0m\u001b[0mbuildDriver\u001b[0m\u001b[0;34m(\u001b[0m\u001b[0mweakref\u001b[0m\u001b[0;34m.\u001b[0m\u001b[0mproxy\u001b[0m\u001b[0;34m(\u001b[0m\u001b[0mself\u001b[0m\u001b[0;34m)\u001b[0m\u001b[0;34m)\u001b[0m\u001b[0;34m\u001b[0m\u001b[0;34m\u001b[0m\u001b[0m\n",
            "\u001b[0;32m/usr/lib/python3.8/importlib/__init__.py\u001b[0m in \u001b[0;36mimport_module\u001b[0;34m(name, package)\u001b[0m\n\u001b[1;32m    125\u001b[0m                 \u001b[0;32mbreak\u001b[0m\u001b[0;34m\u001b[0m\u001b[0;34m\u001b[0m\u001b[0m\n\u001b[1;32m    126\u001b[0m             \u001b[0mlevel\u001b[0m \u001b[0;34m+=\u001b[0m \u001b[0;36m1\u001b[0m\u001b[0;34m\u001b[0m\u001b[0;34m\u001b[0m\u001b[0m\n\u001b[0;32m--> 127\u001b[0;31m     \u001b[0;32mreturn\u001b[0m \u001b[0m_bootstrap\u001b[0m\u001b[0;34m.\u001b[0m\u001b[0m_gcd_import\u001b[0m\u001b[0;34m(\u001b[0m\u001b[0mname\u001b[0m\u001b[0;34m[\u001b[0m\u001b[0mlevel\u001b[0m\u001b[0;34m:\u001b[0m\u001b[0;34m]\u001b[0m\u001b[0;34m,\u001b[0m \u001b[0mpackage\u001b[0m\u001b[0;34m,\u001b[0m \u001b[0mlevel\u001b[0m\u001b[0;34m)\u001b[0m\u001b[0;34m\u001b[0m\u001b[0;34m\u001b[0m\u001b[0m\n\u001b[0m\u001b[1;32m    128\u001b[0m \u001b[0;34m\u001b[0m\u001b[0m\n\u001b[1;32m    129\u001b[0m \u001b[0;34m\u001b[0m\u001b[0m\n",
            "\u001b[0;32m/usr/lib/python3.8/importlib/_bootstrap.py\u001b[0m in \u001b[0;36m_gcd_import\u001b[0;34m(name, package, level)\u001b[0m\n",
            "\u001b[0;32m/usr/lib/python3.8/importlib/_bootstrap.py\u001b[0m in \u001b[0;36m_find_and_load\u001b[0;34m(name, import_)\u001b[0m\n",
            "\u001b[0;32m/usr/lib/python3.8/importlib/_bootstrap.py\u001b[0m in \u001b[0;36m_find_and_load_unlocked\u001b[0;34m(name, import_)\u001b[0m\n",
            "\u001b[0;32m/usr/lib/python3.8/importlib/_bootstrap.py\u001b[0m in \u001b[0;36m_load_unlocked\u001b[0;34m(spec)\u001b[0m\n",
            "\u001b[0;32m/usr/lib/python3.8/importlib/_bootstrap_external.py\u001b[0m in \u001b[0;36mexec_module\u001b[0;34m(self, module)\u001b[0m\n",
            "\u001b[0;32m/usr/lib/python3.8/importlib/_bootstrap.py\u001b[0m in \u001b[0;36m_call_with_frames_removed\u001b[0;34m(f, *args, **kwds)\u001b[0m\n",
            "\u001b[0;32m/usr/local/lib/python3.8/dist-packages/pyttsx3/drivers/espeak.py\u001b[0m in \u001b[0;36m<module>\u001b[0;34m\u001b[0m\n\u001b[1;32m      3\u001b[0m \u001b[0;32mimport\u001b[0m \u001b[0mctypes\u001b[0m\u001b[0;34m\u001b[0m\u001b[0;34m\u001b[0m\u001b[0m\n\u001b[1;32m      4\u001b[0m \u001b[0;32mfrom\u001b[0m \u001b[0;34m.\u001b[0m\u001b[0;34m.\u001b[0m\u001b[0mvoice\u001b[0m \u001b[0;32mimport\u001b[0m \u001b[0mVoice\u001b[0m\u001b[0;34m\u001b[0m\u001b[0;34m\u001b[0m\u001b[0m\n\u001b[0;32m----> 5\u001b[0;31m \u001b[0;32mfrom\u001b[0m \u001b[0;34m.\u001b[0m \u001b[0;32mimport\u001b[0m \u001b[0m_espeak\u001b[0m\u001b[0;34m,\u001b[0m \u001b[0mtoUtf8\u001b[0m\u001b[0;34m,\u001b[0m \u001b[0mfromUtf8\u001b[0m\u001b[0;34m\u001b[0m\u001b[0;34m\u001b[0m\u001b[0m\n\u001b[0m\u001b[1;32m      6\u001b[0m \u001b[0;34m\u001b[0m\u001b[0m\n\u001b[1;32m      7\u001b[0m \u001b[0;34m\u001b[0m\u001b[0m\n",
            "\u001b[0;32m/usr/local/lib/python3.8/dist-packages/pyttsx3/drivers/_espeak.py\u001b[0m in \u001b[0;36m<module>\u001b[0;34m\u001b[0m\n\u001b[1;32m     16\u001b[0m     \u001b[0;32mreturn\u001b[0m \u001b[0mCFUNCTYPE\u001b[0m\u001b[0;34m(\u001b[0m\u001b[0mresult\u001b[0m\u001b[0;34m,\u001b[0m \u001b[0;34m*\u001b[0m\u001b[0matypes\u001b[0m\u001b[0;34m)\u001b[0m\u001b[0;34m(\u001b[0m\u001b[0;34m(\u001b[0m\u001b[0mname\u001b[0m\u001b[0;34m,\u001b[0m \u001b[0mdll\u001b[0m\u001b[0;34m)\u001b[0m\u001b[0;34m,\u001b[0m \u001b[0mtuple\u001b[0m\u001b[0;34m(\u001b[0m\u001b[0maflags\u001b[0m\u001b[0;34m)\u001b[0m\u001b[0;34m)\u001b[0m\u001b[0;34m\u001b[0m\u001b[0;34m\u001b[0m\u001b[0m\n\u001b[1;32m     17\u001b[0m \u001b[0;34m\u001b[0m\u001b[0m\n\u001b[0;32m---> 18\u001b[0;31m \u001b[0mdll\u001b[0m \u001b[0;34m=\u001b[0m \u001b[0mcdll\u001b[0m\u001b[0;34m.\u001b[0m\u001b[0mLoadLibrary\u001b[0m\u001b[0;34m(\u001b[0m\u001b[0;34m'libespeak.so.1'\u001b[0m\u001b[0;34m)\u001b[0m\u001b[0;34m\u001b[0m\u001b[0;34m\u001b[0m\u001b[0m\n\u001b[0m\u001b[1;32m     19\u001b[0m \u001b[0;34m\u001b[0m\u001b[0m\n\u001b[1;32m     20\u001b[0m \u001b[0;31m# constants and such from speak_lib.h\u001b[0m\u001b[0;34m\u001b[0m\u001b[0;34m\u001b[0m\u001b[0;34m\u001b[0m\u001b[0m\n",
            "\u001b[0;32m/usr/lib/python3.8/ctypes/__init__.py\u001b[0m in \u001b[0;36mLoadLibrary\u001b[0;34m(self, name)\u001b[0m\n\u001b[1;32m    449\u001b[0m \u001b[0;34m\u001b[0m\u001b[0m\n\u001b[1;32m    450\u001b[0m     \u001b[0;32mdef\u001b[0m \u001b[0mLoadLibrary\u001b[0m\u001b[0;34m(\u001b[0m\u001b[0mself\u001b[0m\u001b[0;34m,\u001b[0m \u001b[0mname\u001b[0m\u001b[0;34m)\u001b[0m\u001b[0;34m:\u001b[0m\u001b[0;34m\u001b[0m\u001b[0;34m\u001b[0m\u001b[0m\n\u001b[0;32m--> 451\u001b[0;31m         \u001b[0;32mreturn\u001b[0m \u001b[0mself\u001b[0m\u001b[0;34m.\u001b[0m\u001b[0m_dlltype\u001b[0m\u001b[0;34m(\u001b[0m\u001b[0mname\u001b[0m\u001b[0;34m)\u001b[0m\u001b[0;34m\u001b[0m\u001b[0;34m\u001b[0m\u001b[0m\n\u001b[0m\u001b[1;32m    452\u001b[0m \u001b[0;34m\u001b[0m\u001b[0m\n\u001b[1;32m    453\u001b[0m \u001b[0mcdll\u001b[0m \u001b[0;34m=\u001b[0m \u001b[0mLibraryLoader\u001b[0m\u001b[0;34m(\u001b[0m\u001b[0mCDLL\u001b[0m\u001b[0;34m)\u001b[0m\u001b[0;34m\u001b[0m\u001b[0;34m\u001b[0m\u001b[0m\n",
            "\u001b[0;32m/usr/lib/python3.8/ctypes/__init__.py\u001b[0m in \u001b[0;36m__init__\u001b[0;34m(self, name, mode, handle, use_errno, use_last_error, winmode)\u001b[0m\n\u001b[1;32m    371\u001b[0m \u001b[0;34m\u001b[0m\u001b[0m\n\u001b[1;32m    372\u001b[0m         \u001b[0;32mif\u001b[0m \u001b[0mhandle\u001b[0m \u001b[0;32mis\u001b[0m \u001b[0;32mNone\u001b[0m\u001b[0;34m:\u001b[0m\u001b[0;34m\u001b[0m\u001b[0;34m\u001b[0m\u001b[0m\n\u001b[0;32m--> 373\u001b[0;31m             \u001b[0mself\u001b[0m\u001b[0;34m.\u001b[0m\u001b[0m_handle\u001b[0m \u001b[0;34m=\u001b[0m \u001b[0m_dlopen\u001b[0m\u001b[0;34m(\u001b[0m\u001b[0mself\u001b[0m\u001b[0;34m.\u001b[0m\u001b[0m_name\u001b[0m\u001b[0;34m,\u001b[0m \u001b[0mmode\u001b[0m\u001b[0;34m)\u001b[0m\u001b[0;34m\u001b[0m\u001b[0;34m\u001b[0m\u001b[0m\n\u001b[0m\u001b[1;32m    374\u001b[0m         \u001b[0;32melse\u001b[0m\u001b[0;34m:\u001b[0m\u001b[0;34m\u001b[0m\u001b[0;34m\u001b[0m\u001b[0m\n\u001b[1;32m    375\u001b[0m             \u001b[0mself\u001b[0m\u001b[0;34m.\u001b[0m\u001b[0m_handle\u001b[0m \u001b[0;34m=\u001b[0m \u001b[0mhandle\u001b[0m\u001b[0;34m\u001b[0m\u001b[0;34m\u001b[0m\u001b[0m\n",
            "\u001b[0;31mOSError\u001b[0m: libespeak.so.1: cannot open shared object file: No such file or directory"
          ]
        }
      ]
    },
    {
      "cell_type": "code",
      "source": [
        "import speake3\n",
        "engine = speake3.Speake() # Initialize the speake engine\n",
        "engine.set('voice', 'en')\n",
        "engine.set('speed', '107')\n",
        "engine.set('pitch', '99')\n",
        "engine.say(\"Hello world!\") #String to be spoken\n",
        "engine.talkback()\n"
      ],
      "metadata": {
        "colab": {
          "base_uri": "https://localhost:8080/",
          "height": 373
        },
        "id": "orPJvmDey5Cm",
        "outputId": "8240d07e-84ef-4e64-a9ba-698d457f3525"
      },
      "execution_count": null,
      "outputs": [
        {
          "output_type": "error",
          "ename": "OSError",
          "evalue": "ignored",
          "traceback": [
            "\u001b[0;31m---------------------------------------------------------------------------\u001b[0m",
            "\u001b[0;31mOSError\u001b[0m                                   Traceback (most recent call last)",
            "\u001b[0;32m<ipython-input-9-cacaaad54e6e>\u001b[0m in \u001b[0;36m<module>\u001b[0;34m\u001b[0m\n\u001b[1;32m      1\u001b[0m \u001b[0;32mimport\u001b[0m \u001b[0mspeake3\u001b[0m\u001b[0;34m\u001b[0m\u001b[0;34m\u001b[0m\u001b[0m\n\u001b[0;32m----> 2\u001b[0;31m \u001b[0mengine\u001b[0m \u001b[0;34m=\u001b[0m \u001b[0mspeake3\u001b[0m\u001b[0;34m.\u001b[0m\u001b[0mSpeake\u001b[0m\u001b[0;34m(\u001b[0m\u001b[0;34m)\u001b[0m \u001b[0;31m# Initialize the speake engine\u001b[0m\u001b[0;34m\u001b[0m\u001b[0;34m\u001b[0m\u001b[0m\n\u001b[0m\u001b[1;32m      3\u001b[0m \u001b[0mengine\u001b[0m\u001b[0;34m.\u001b[0m\u001b[0mset\u001b[0m\u001b[0;34m(\u001b[0m\u001b[0;34m'voice'\u001b[0m\u001b[0;34m,\u001b[0m \u001b[0;34m'en'\u001b[0m\u001b[0;34m)\u001b[0m\u001b[0;34m\u001b[0m\u001b[0;34m\u001b[0m\u001b[0m\n\u001b[1;32m      4\u001b[0m \u001b[0mengine\u001b[0m\u001b[0;34m.\u001b[0m\u001b[0mset\u001b[0m\u001b[0;34m(\u001b[0m\u001b[0;34m'speed'\u001b[0m\u001b[0;34m,\u001b[0m \u001b[0;34m'107'\u001b[0m\u001b[0;34m)\u001b[0m\u001b[0;34m\u001b[0m\u001b[0;34m\u001b[0m\u001b[0m\n\u001b[1;32m      5\u001b[0m \u001b[0mengine\u001b[0m\u001b[0;34m.\u001b[0m\u001b[0mset\u001b[0m\u001b[0;34m(\u001b[0m\u001b[0;34m'pitch'\u001b[0m\u001b[0;34m,\u001b[0m \u001b[0;34m'99'\u001b[0m\u001b[0;34m)\u001b[0m\u001b[0;34m\u001b[0m\u001b[0;34m\u001b[0m\u001b[0m\n",
            "\u001b[0;32m/usr/local/lib/python3.8/dist-packages/speake3/speake3.py\u001b[0m in \u001b[0;36m__init__\u001b[0;34m(self)\u001b[0m\n\u001b[1;32m     56\u001b[0m         \u001b[0;31m# Condition to check if espeak-tts-engine is installed\u001b[0m\u001b[0;34m\u001b[0m\u001b[0;34m\u001b[0m\u001b[0;34m\u001b[0m\u001b[0m\n\u001b[1;32m     57\u001b[0m         \u001b[0;32mif\u001b[0m \u001b[0;32mnot\u001b[0m \u001b[0mos\u001b[0m\u001b[0;34m.\u001b[0m\u001b[0mpath\u001b[0m\u001b[0;34m.\u001b[0m\u001b[0mexists\u001b[0m\u001b[0;34m(\u001b[0m\u001b[0;34m'/usr/bin/espeak'\u001b[0m\u001b[0;34m)\u001b[0m\u001b[0;34m:\u001b[0m\u001b[0;34m\u001b[0m\u001b[0;34m\u001b[0m\u001b[0m\n\u001b[0;32m---> 58\u001b[0;31m             \u001b[0;32mraise\u001b[0m \u001b[0mOSError\u001b[0m\u001b[0;34m(\u001b[0m\u001b[0;34m\"Espeak text-to-speech engine is not installed in this system!\"\u001b[0m\u001b[0;34m)\u001b[0m\u001b[0;34m\u001b[0m\u001b[0;34m\u001b[0m\u001b[0m\n\u001b[0m\u001b[1;32m     59\u001b[0m \u001b[0;34m\u001b[0m\u001b[0m\n\u001b[1;32m     60\u001b[0m     \u001b[0;32mdef\u001b[0m \u001b[0m__listoutput\u001b[0m\u001b[0;34m(\u001b[0m\u001b[0mself\u001b[0m\u001b[0;34m,\u001b[0m \u001b[0mvoices\u001b[0m\u001b[0;34m)\u001b[0m\u001b[0;34m:\u001b[0m\u001b[0;34m\u001b[0m\u001b[0;34m\u001b[0m\u001b[0m\n",
            "\u001b[0;31mOSError\u001b[0m: Espeak text-to-speech engine is not installed in this system!"
          ]
        }
      ]
    },
    {
      "cell_type": "markdown",
      "metadata": {
        "id": "IvLdEc1ljUcv"
      },
      "source": [
        "# App Run"
      ]
    },
    {
      "cell_type": "code",
      "execution_count": null,
      "metadata": {
        "id": "qGIYae8VxUn2"
      },
      "outputs": [],
      "source": [
        "#Covert Text from a file entered by user to speech\n",
        "engine = pyttsx3.init() # object creation\n",
        "\n",
        "\n",
        "\"\"\" RATE\"\"\"\n",
        "rate = engine.getProperty('rate')   # getting details of current speaking rate\n",
        "print(rate)                         # printing current voice rate\n",
        "engine.setProperty('rate', 150)     # setting up new voice rate\n",
        "\n",
        "\"\"\"VOLUME\"\"\"\n",
        "volume = engine.getProperty('volume')   #getting to know current volume level (min=0 and max=1)\n",
        "print (volume)                          #printing current volume level\n",
        "engine.setProperty('volume',1.0)    # setting up volume level  between 0 and 1\n",
        "\n",
        "\"\"\"VOICE\"\"\"\n",
        "voices = engine.getProperty('voices')       #getting details of current voice\n",
        "engine.setProperty('voice', voices[1].id)   #changing index, changes voices (0 for male, 1 for female)\n",
        "\n",
        "# file = input(\"Enter file name (supports only .txt & .docx files): \")  #request user to enter file name\n",
        "\n",
        "if Path(txt_file).suffix == \".txt\":\n",
        "    infile = open(txt_file, \"r\")\n",
        "    # loop over each line, then print and say their text\n",
        "    for i in infile.readlines():\n",
        "        theText = i\n",
        "        print(theText)\n",
        "        engine.say(theText)\n",
        "        engine.runAndWait()\n",
        "        engine.stop()\n",
        "elif Path(txt_file).suffix == \".docx\":\n",
        "    infile = docx.Document(txt_file)\n",
        "    #loop over each Paragraph, then print and say their text\n",
        "    for i in infile.paragraphs:\n",
        "        theText = i.text\n",
        "        print(theText)\n",
        "        engine.say(theText)\n",
        "        engine.runAndWait()\n",
        "        engine.stop()\n",
        "else:\n",
        "    print(\"Document format is not supported\") #print out error if unsupported file format is passed"
      ]
    },
    {
      "cell_type": "code",
      "source": [
        "# From on here and downwards, I'm only testing something else\n",
        "import pyttsx3\n",
        "engine = pyttsx3.init()\n",
        "engine.say(\"I will speak this text\")\n",
        "engine.runAndWait()"
      ],
      "metadata": {
        "id": "HkH_j5lJ8bmh"
      },
      "execution_count": null,
      "outputs": []
    },
    {
      "cell_type": "code",
      "source": [
        "!pip install gtts\n",
        "from gtts import gTTS #Import Google Text to Speech\n",
        "from IPython.display import Audio #Import Audio method from IPython's Display Class\n",
        "msg = input(\"Enter your message: \") # Pass in your message\n",
        "tts = gTTS(msg) #Provide the string to convert to speech\n",
        "tts.save('1.wav') #save the string converted to speech as a .wav file\n",
        "sound_file = '1.wav'\n",
        "Audio(sound_file, autoplay=True)\n",
        "\n",
        "#Autoplay = True will play the sound automatically\n",
        "#If you would not like to play the sound automatically, simply pass Autoplay = False."
      ],
      "metadata": {
        "id": "jHWqmZVH53RK",
        "colab": {
          "base_uri": "https://localhost:8080/",
          "height": 388
        },
        "outputId": "f90bbcdf-edb8-4a39-8220-2fe8b67bdaeb"
      },
      "execution_count": null,
      "outputs": [
        {
          "name": "stdout",
          "output_type": "stream",
          "text": [
            "Looking in indexes: https://pypi.org/simple, https://us-python.pkg.dev/colab-wheels/public/simple/\n",
            "Collecting gtts\n",
            "  Downloading gTTS-2.3.1-py3-none-any.whl (28 kB)\n",
            "Collecting requests<3,>=2.27\n",
            "  Downloading requests-2.28.2-py3-none-any.whl (62 kB)\n",
            "\u001b[2K     \u001b[90m━━━━━━━━━━━━━━━━━━━━━━━━━━━━━━━━━━━━━━━━\u001b[0m \u001b[32m62.8/62.8 KB\u001b[0m \u001b[31m2.2 MB/s\u001b[0m eta \u001b[36m0:00:00\u001b[0m\n",
            "\u001b[?25hRequirement already satisfied: click<8.2,>=7.1 in /usr/local/lib/python3.8/dist-packages (from gtts) (7.1.2)\n",
            "Requirement already satisfied: urllib3<1.27,>=1.21.1 in /usr/local/lib/python3.8/dist-packages (from requests<3,>=2.27->gtts) (1.24.3)\n",
            "Requirement already satisfied: certifi>=2017.4.17 in /usr/local/lib/python3.8/dist-packages (from requests<3,>=2.27->gtts) (2022.12.7)\n",
            "Requirement already satisfied: idna<4,>=2.5 in /usr/local/lib/python3.8/dist-packages (from requests<3,>=2.27->gtts) (2.10)\n",
            "Requirement already satisfied: charset-normalizer<4,>=2 in /usr/local/lib/python3.8/dist-packages (from requests<3,>=2.27->gtts) (2.1.1)\n",
            "Installing collected packages: requests, gtts\n",
            "  Attempting uninstall: requests\n",
            "    Found existing installation: requests 2.25.1\n",
            "    Uninstalling requests-2.25.1:\n",
            "      Successfully uninstalled requests-2.25.1\n",
            "Successfully installed gtts-2.3.1 requests-2.28.2\n",
            "Enter your message: Kindness is a good girl. How the hell do we confuse her dad that Solomon is interested in making her a third wife?\n"
          ]
        },
        {
          "output_type": "execute_result",
          "data": {
            "text/plain": [
              "<IPython.lib.display.Audio object>"
            ],
            "text/html": [
              "\n",
              "                <audio  controls=\"controls\" autoplay=\"autoplay\">\n",
              "                    <source src=\"data:audio/x-wav;base64,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\" type=\"audio/x-wav\" />\n",
              "                    Your browser does not support the audio element.\n",
              "                </audio>\n",
              "              "
            ]
          },
          "metadata": {},
          "execution_count": 1
        }
      ]
    }
  ],
  "metadata": {
    "colab": {
      "provenance": [],
      "include_colab_link": true
    },
    "kernelspec": {
      "display_name": "Python 3",
      "name": "python3"
    },
    "language_info": {
      "name": "python"
    }
  },
  "nbformat": 4,
  "nbformat_minor": 0
}